{
  "nbformat": 4,
  "nbformat_minor": 0,
  "metadata": {
    "colab": {
      "provenance": [],
      "collapsed_sections": []
    },
    "kernelspec": {
      "name": "python3",
      "display_name": "Python 3"
    },
    "language_info": {
      "name": "python"
    }
  },
  "cells": [
    {
      "cell_type": "markdown",
      "source": [
        "##1 Résumé de la mission\n",
        "\n",
        "Data Analyst freelance  en mission chez BottleNeck, un marchand de vin prestigieux.\n",
        "\n",
        "1. de rapprocher un ERP des références produit avec une table issue de l'outil cms contenant les informations à propos de ces produits\n",
        "2. calculer le chiffre d'affaires par produit\n",
        "3. calculer le total du chiffre d'affaire réalisé en ligne\n",
        "4. rechercher d'éventuelles valeurs aberrantes dans les prix des produits, et faire une liste et une représentation graphique "
      ],
      "metadata": {
        "id": "gX9UrzWDe7B-"
      }
    },
    {
      "cell_type": "code",
      "execution_count": 122,
      "metadata": {
        "id": "yHOx21LAxe2g"
      },
      "outputs": [],
      "source": [
        "import pandas as pd \n",
        "import numpy as np\n",
        "import plotly.express as px"
      ]
    },
    {
      "cell_type": "code",
      "source": [
        "erp = pd.read_excel('erp.xlsx')\n",
        "liaison = pd.read_excel('liaison.xlsx')\n",
        "web = pd.read_excel('web.xlsx')\n"
      ],
      "metadata": {
        "colab": {
          "base_uri": "https://localhost:8080/"
        },
        "id": "M5LYNJj1xshf",
        "outputId": "c4b98b8a-87c0-4a82-ac75-bb053c37e2a4"
      },
      "execution_count": 123,
      "outputs": [
        {
          "output_type": "stream",
          "name": "stderr",
          "text": [
            "/usr/local/lib/python3.7/dist-packages/openpyxl/worksheet/_reader.py:312: UserWarning:\n",
            "\n",
            "Unknown extension is not supported and will be removed\n",
            "\n"
          ]
        }
      ]
    },
    {
      "cell_type": "code",
      "source": [
        " print(web.shape)\n",
        "web.head()"
      ],
      "metadata": {
        "colab": {
          "base_uri": "https://localhost:8080/",
          "height": 603
        },
        "id": "VdI-iM0t7R-B",
        "outputId": "e85a389e-6f0e-428b-ca91-a0aa59116a16"
      },
      "execution_count": 124,
      "outputs": [
        {
          "output_type": "stream",
          "name": "stdout",
          "text": [
            "(1513, 28)\n"
          ]
        },
        {
          "output_type": "execute_result",
          "data": {
            "text/plain": [
              "                   sku  virtual  downloadable  rating_count  average_rating  \\\n",
              "0  bon-cadeau-25-euros        0             0             0             0.0   \n",
              "1                15298        0             0             0             0.0   \n",
              "2                15296        0             0             0             0.0   \n",
              "3                15300        0             0             0             0.0   \n",
              "4                19814        0             0             0             0.0   \n",
              "\n",
              "   total_sales tax_status  tax_class  post_author           post_date  ...  \\\n",
              "0         10.0    taxable        NaN          1.0 2018-06-01 13:53:46  ...   \n",
              "1          6.0    taxable        NaN          2.0 2018-02-08 12:58:52  ...   \n",
              "2          0.0    taxable        NaN          2.0 2018-02-08 13:49:41  ...   \n",
              "3          0.0    taxable        NaN          2.0 2018-02-08 14:08:36  ...   \n",
              "4          3.0    taxable        NaN          2.0 2018-02-09 14:01:05  ...   \n",
              "\n",
              "                                           post_name       post_modified  \\\n",
              "0                             bon-cadeau-de-25-euros 2018-06-01 14:13:57   \n",
              "1        pierre-jean-villa-saint-joseph-preface-2018 2019-12-30 09:30:29   \n",
              "2          pierre-jean-villa-saint-joseph-tilde-2017 2019-12-21 09:00:17   \n",
              "3  pierre-jean-villa-croze-hermitage-accroche-coe... 2020-06-26 18:15:03   \n",
              "4                  pierre-jean-villa-igp-gamine-2018 2020-01-04 16:36:01   \n",
              "\n",
              "    post_modified_gmt post_content_filtered post_parent  \\\n",
              "0 2018-06-01 12:13:57                   NaN         0.0   \n",
              "1 2019-12-30 08:30:29                   NaN         0.0   \n",
              "2 2019-12-21 08:00:17                   NaN         0.0   \n",
              "3 2020-06-26 16:15:03                   NaN         0.0   \n",
              "4 2020-01-04 15:36:01                   NaN         0.0   \n",
              "\n",
              "                                                guid menu_order  post_type  \\\n",
              "0  https://www.bottle-neck.fr/?post_type=product&...        0.0    product   \n",
              "1  https://www.bottle-neck.fr/?post_type=product&...        0.0    product   \n",
              "2  https://www.bottle-neck.fr/?post_type=product&...        0.0    product   \n",
              "3  https://www.bottle-neck.fr/?post_type=product&...        0.0    product   \n",
              "4  https://www.bottle-neck.fr/?post_type=product&...        0.0    product   \n",
              "\n",
              "  post_mime_type comment_count  \n",
              "0            NaN           0.0  \n",
              "1            NaN           0.0  \n",
              "2            NaN           0.0  \n",
              "3            NaN           0.0  \n",
              "4            NaN           0.0  \n",
              "\n",
              "[5 rows x 28 columns]"
            ],
            "text/html": [
              "\n",
              "  <div id=\"df-c2499ead-0815-4c84-9c0d-2a03cffb5d6b\">\n",
              "    <div class=\"colab-df-container\">\n",
              "      <div>\n",
              "<style scoped>\n",
              "    .dataframe tbody tr th:only-of-type {\n",
              "        vertical-align: middle;\n",
              "    }\n",
              "\n",
              "    .dataframe tbody tr th {\n",
              "        vertical-align: top;\n",
              "    }\n",
              "\n",
              "    .dataframe thead th {\n",
              "        text-align: right;\n",
              "    }\n",
              "</style>\n",
              "<table border=\"1\" class=\"dataframe\">\n",
              "  <thead>\n",
              "    <tr style=\"text-align: right;\">\n",
              "      <th></th>\n",
              "      <th>sku</th>\n",
              "      <th>virtual</th>\n",
              "      <th>downloadable</th>\n",
              "      <th>rating_count</th>\n",
              "      <th>average_rating</th>\n",
              "      <th>total_sales</th>\n",
              "      <th>tax_status</th>\n",
              "      <th>tax_class</th>\n",
              "      <th>post_author</th>\n",
              "      <th>post_date</th>\n",
              "      <th>...</th>\n",
              "      <th>post_name</th>\n",
              "      <th>post_modified</th>\n",
              "      <th>post_modified_gmt</th>\n",
              "      <th>post_content_filtered</th>\n",
              "      <th>post_parent</th>\n",
              "      <th>guid</th>\n",
              "      <th>menu_order</th>\n",
              "      <th>post_type</th>\n",
              "      <th>post_mime_type</th>\n",
              "      <th>comment_count</th>\n",
              "    </tr>\n",
              "  </thead>\n",
              "  <tbody>\n",
              "    <tr>\n",
              "      <th>0</th>\n",
              "      <td>bon-cadeau-25-euros</td>\n",
              "      <td>0</td>\n",
              "      <td>0</td>\n",
              "      <td>0</td>\n",
              "      <td>0.0</td>\n",
              "      <td>10.0</td>\n",
              "      <td>taxable</td>\n",
              "      <td>NaN</td>\n",
              "      <td>1.0</td>\n",
              "      <td>2018-06-01 13:53:46</td>\n",
              "      <td>...</td>\n",
              "      <td>bon-cadeau-de-25-euros</td>\n",
              "      <td>2018-06-01 14:13:57</td>\n",
              "      <td>2018-06-01 12:13:57</td>\n",
              "      <td>NaN</td>\n",
              "      <td>0.0</td>\n",
              "      <td>https://www.bottle-neck.fr/?post_type=product&amp;...</td>\n",
              "      <td>0.0</td>\n",
              "      <td>product</td>\n",
              "      <td>NaN</td>\n",
              "      <td>0.0</td>\n",
              "    </tr>\n",
              "    <tr>\n",
              "      <th>1</th>\n",
              "      <td>15298</td>\n",
              "      <td>0</td>\n",
              "      <td>0</td>\n",
              "      <td>0</td>\n",
              "      <td>0.0</td>\n",
              "      <td>6.0</td>\n",
              "      <td>taxable</td>\n",
              "      <td>NaN</td>\n",
              "      <td>2.0</td>\n",
              "      <td>2018-02-08 12:58:52</td>\n",
              "      <td>...</td>\n",
              "      <td>pierre-jean-villa-saint-joseph-preface-2018</td>\n",
              "      <td>2019-12-30 09:30:29</td>\n",
              "      <td>2019-12-30 08:30:29</td>\n",
              "      <td>NaN</td>\n",
              "      <td>0.0</td>\n",
              "      <td>https://www.bottle-neck.fr/?post_type=product&amp;...</td>\n",
              "      <td>0.0</td>\n",
              "      <td>product</td>\n",
              "      <td>NaN</td>\n",
              "      <td>0.0</td>\n",
              "    </tr>\n",
              "    <tr>\n",
              "      <th>2</th>\n",
              "      <td>15296</td>\n",
              "      <td>0</td>\n",
              "      <td>0</td>\n",
              "      <td>0</td>\n",
              "      <td>0.0</td>\n",
              "      <td>0.0</td>\n",
              "      <td>taxable</td>\n",
              "      <td>NaN</td>\n",
              "      <td>2.0</td>\n",
              "      <td>2018-02-08 13:49:41</td>\n",
              "      <td>...</td>\n",
              "      <td>pierre-jean-villa-saint-joseph-tilde-2017</td>\n",
              "      <td>2019-12-21 09:00:17</td>\n",
              "      <td>2019-12-21 08:00:17</td>\n",
              "      <td>NaN</td>\n",
              "      <td>0.0</td>\n",
              "      <td>https://www.bottle-neck.fr/?post_type=product&amp;...</td>\n",
              "      <td>0.0</td>\n",
              "      <td>product</td>\n",
              "      <td>NaN</td>\n",
              "      <td>0.0</td>\n",
              "    </tr>\n",
              "    <tr>\n",
              "      <th>3</th>\n",
              "      <td>15300</td>\n",
              "      <td>0</td>\n",
              "      <td>0</td>\n",
              "      <td>0</td>\n",
              "      <td>0.0</td>\n",
              "      <td>0.0</td>\n",
              "      <td>taxable</td>\n",
              "      <td>NaN</td>\n",
              "      <td>2.0</td>\n",
              "      <td>2018-02-08 14:08:36</td>\n",
              "      <td>...</td>\n",
              "      <td>pierre-jean-villa-croze-hermitage-accroche-coe...</td>\n",
              "      <td>2020-06-26 18:15:03</td>\n",
              "      <td>2020-06-26 16:15:03</td>\n",
              "      <td>NaN</td>\n",
              "      <td>0.0</td>\n",
              "      <td>https://www.bottle-neck.fr/?post_type=product&amp;...</td>\n",
              "      <td>0.0</td>\n",
              "      <td>product</td>\n",
              "      <td>NaN</td>\n",
              "      <td>0.0</td>\n",
              "    </tr>\n",
              "    <tr>\n",
              "      <th>4</th>\n",
              "      <td>19814</td>\n",
              "      <td>0</td>\n",
              "      <td>0</td>\n",
              "      <td>0</td>\n",
              "      <td>0.0</td>\n",
              "      <td>3.0</td>\n",
              "      <td>taxable</td>\n",
              "      <td>NaN</td>\n",
              "      <td>2.0</td>\n",
              "      <td>2018-02-09 14:01:05</td>\n",
              "      <td>...</td>\n",
              "      <td>pierre-jean-villa-igp-gamine-2018</td>\n",
              "      <td>2020-01-04 16:36:01</td>\n",
              "      <td>2020-01-04 15:36:01</td>\n",
              "      <td>NaN</td>\n",
              "      <td>0.0</td>\n",
              "      <td>https://www.bottle-neck.fr/?post_type=product&amp;...</td>\n",
              "      <td>0.0</td>\n",
              "      <td>product</td>\n",
              "      <td>NaN</td>\n",
              "      <td>0.0</td>\n",
              "    </tr>\n",
              "  </tbody>\n",
              "</table>\n",
              "<p>5 rows × 28 columns</p>\n",
              "</div>\n",
              "      <button class=\"colab-df-convert\" onclick=\"convertToInteractive('df-c2499ead-0815-4c84-9c0d-2a03cffb5d6b')\"\n",
              "              title=\"Convert this dataframe to an interactive table.\"\n",
              "              style=\"display:none;\">\n",
              "        \n",
              "  <svg xmlns=\"http://www.w3.org/2000/svg\" height=\"24px\"viewBox=\"0 0 24 24\"\n",
              "       width=\"24px\">\n",
              "    <path d=\"M0 0h24v24H0V0z\" fill=\"none\"/>\n",
              "    <path d=\"M18.56 5.44l.94 2.06.94-2.06 2.06-.94-2.06-.94-.94-2.06-.94 2.06-2.06.94zm-11 1L8.5 8.5l.94-2.06 2.06-.94-2.06-.94L8.5 2.5l-.94 2.06-2.06.94zm10 10l.94 2.06.94-2.06 2.06-.94-2.06-.94-.94-2.06-.94 2.06-2.06.94z\"/><path d=\"M17.41 7.96l-1.37-1.37c-.4-.4-.92-.59-1.43-.59-.52 0-1.04.2-1.43.59L10.3 9.45l-7.72 7.72c-.78.78-.78 2.05 0 2.83L4 21.41c.39.39.9.59 1.41.59.51 0 1.02-.2 1.41-.59l7.78-7.78 2.81-2.81c.8-.78.8-2.07 0-2.86zM5.41 20L4 18.59l7.72-7.72 1.47 1.35L5.41 20z\"/>\n",
              "  </svg>\n",
              "      </button>\n",
              "      \n",
              "  <style>\n",
              "    .colab-df-container {\n",
              "      display:flex;\n",
              "      flex-wrap:wrap;\n",
              "      gap: 12px;\n",
              "    }\n",
              "\n",
              "    .colab-df-convert {\n",
              "      background-color: #E8F0FE;\n",
              "      border: none;\n",
              "      border-radius: 50%;\n",
              "      cursor: pointer;\n",
              "      display: none;\n",
              "      fill: #1967D2;\n",
              "      height: 32px;\n",
              "      padding: 0 0 0 0;\n",
              "      width: 32px;\n",
              "    }\n",
              "\n",
              "    .colab-df-convert:hover {\n",
              "      background-color: #E2EBFA;\n",
              "      box-shadow: 0px 1px 2px rgba(60, 64, 67, 0.3), 0px 1px 3px 1px rgba(60, 64, 67, 0.15);\n",
              "      fill: #174EA6;\n",
              "    }\n",
              "\n",
              "    [theme=dark] .colab-df-convert {\n",
              "      background-color: #3B4455;\n",
              "      fill: #D2E3FC;\n",
              "    }\n",
              "\n",
              "    [theme=dark] .colab-df-convert:hover {\n",
              "      background-color: #434B5C;\n",
              "      box-shadow: 0px 1px 3px 1px rgba(0, 0, 0, 0.15);\n",
              "      filter: drop-shadow(0px 1px 2px rgba(0, 0, 0, 0.3));\n",
              "      fill: #FFFFFF;\n",
              "    }\n",
              "  </style>\n",
              "\n",
              "      <script>\n",
              "        const buttonEl =\n",
              "          document.querySelector('#df-c2499ead-0815-4c84-9c0d-2a03cffb5d6b button.colab-df-convert');\n",
              "        buttonEl.style.display =\n",
              "          google.colab.kernel.accessAllowed ? 'block' : 'none';\n",
              "\n",
              "        async function convertToInteractive(key) {\n",
              "          const element = document.querySelector('#df-c2499ead-0815-4c84-9c0d-2a03cffb5d6b');\n",
              "          const dataTable =\n",
              "            await google.colab.kernel.invokeFunction('convertToInteractive',\n",
              "                                                     [key], {});\n",
              "          if (!dataTable) return;\n",
              "\n",
              "          const docLinkHtml = 'Like what you see? Visit the ' +\n",
              "            '<a target=\"_blank\" href=https://colab.research.google.com/notebooks/data_table.ipynb>data table notebook</a>'\n",
              "            + ' to learn more about interactive tables.';\n",
              "          element.innerHTML = '';\n",
              "          dataTable['output_type'] = 'display_data';\n",
              "          await google.colab.output.renderOutput(dataTable, element);\n",
              "          const docLink = document.createElement('div');\n",
              "          docLink.innerHTML = docLinkHtml;\n",
              "          element.appendChild(docLink);\n",
              "        }\n",
              "      </script>\n",
              "    </div>\n",
              "  </div>\n",
              "  "
            ]
          },
          "metadata": {},
          "execution_count": 124
        }
      ]
    },
    {
      "cell_type": "code",
      "source": [
        "web.info()"
      ],
      "metadata": {
        "colab": {
          "base_uri": "https://localhost:8080/"
        },
        "id": "RdVLXUUZ7eqd",
        "outputId": "f32ddcd5-8e19-4afa-caa5-b3db78a8950f"
      },
      "execution_count": 125,
      "outputs": [
        {
          "output_type": "stream",
          "name": "stdout",
          "text": [
            "<class 'pandas.core.frame.DataFrame'>\n",
            "RangeIndex: 1513 entries, 0 to 1512\n",
            "Data columns (total 28 columns):\n",
            " #   Column                 Non-Null Count  Dtype         \n",
            "---  ------                 --------------  -----         \n",
            " 0   sku                    1428 non-null   object        \n",
            " 1   virtual                1513 non-null   int64         \n",
            " 2   downloadable           1513 non-null   int64         \n",
            " 3   rating_count           1513 non-null   int64         \n",
            " 4   average_rating         1430 non-null   float64       \n",
            " 5   total_sales            1430 non-null   float64       \n",
            " 6   tax_status             716 non-null    object        \n",
            " 7   tax_class              0 non-null      float64       \n",
            " 8   post_author            1430 non-null   float64       \n",
            " 9   post_date              1430 non-null   datetime64[ns]\n",
            " 10  post_date_gmt          1430 non-null   datetime64[ns]\n",
            " 11  post_content           0 non-null      float64       \n",
            " 12  post_title             1430 non-null   object        \n",
            " 13  post_excerpt           716 non-null    object        \n",
            " 14  post_status            1430 non-null   object        \n",
            " 15  comment_status         1430 non-null   object        \n",
            " 16  ping_status            1430 non-null   object        \n",
            " 17  post_password          0 non-null      float64       \n",
            " 18  post_name              1430 non-null   object        \n",
            " 19  post_modified          1430 non-null   datetime64[ns]\n",
            " 20  post_modified_gmt      1430 non-null   datetime64[ns]\n",
            " 21  post_content_filtered  0 non-null      float64       \n",
            " 22  post_parent            1430 non-null   float64       \n",
            " 23  guid                   1430 non-null   object        \n",
            " 24  menu_order             1430 non-null   float64       \n",
            " 25  post_type              1430 non-null   object        \n",
            " 26  post_mime_type         714 non-null    object        \n",
            " 27  comment_count          1430 non-null   float64       \n",
            "dtypes: datetime64[ns](4), float64(10), int64(3), object(11)\n",
            "memory usage: 331.1+ KB\n"
          ]
        }
      ]
    },
    {
      "cell_type": "code",
      "source": [
        "web.isna().sum()"
      ],
      "metadata": {
        "colab": {
          "base_uri": "https://localhost:8080/"
        },
        "id": "MLQpqtlr7oWY",
        "outputId": "defc9d73-dfa7-4ac8-9b1f-5be12b6e88ba"
      },
      "execution_count": 126,
      "outputs": [
        {
          "output_type": "execute_result",
          "data": {
            "text/plain": [
              "sku                        85\n",
              "virtual                     0\n",
              "downloadable                0\n",
              "rating_count                0\n",
              "average_rating             83\n",
              "total_sales                83\n",
              "tax_status                797\n",
              "tax_class                1513\n",
              "post_author                83\n",
              "post_date                  83\n",
              "post_date_gmt              83\n",
              "post_content             1513\n",
              "post_title                 83\n",
              "post_excerpt              797\n",
              "post_status                83\n",
              "comment_status             83\n",
              "ping_status                83\n",
              "post_password            1513\n",
              "post_name                  83\n",
              "post_modified              83\n",
              "post_modified_gmt          83\n",
              "post_content_filtered    1513\n",
              "post_parent                83\n",
              "guid                       83\n",
              "menu_order                 83\n",
              "post_type                  83\n",
              "post_mime_type            799\n",
              "comment_count              83\n",
              "dtype: int64"
            ]
          },
          "metadata": {},
          "execution_count": 126
        }
      ]
    },
    {
      "cell_type": "markdown",
      "source": [
        "On dénote 85 valeurs nulles"
      ],
      "metadata": {
        "id": "q7OmGo-XdnLk"
      }
    },
    {
      "cell_type": "code",
      "source": [
        "print(liaison.shape)\n",
        "liaison.head()"
      ],
      "metadata": {
        "colab": {
          "base_uri": "https://localhost:8080/",
          "height": 221
        },
        "id": "V5j-AygwxwmM",
        "outputId": "0f7db9b9-d4cc-4335-fc33-7531c1c89575"
      },
      "execution_count": 127,
      "outputs": [
        {
          "output_type": "stream",
          "name": "stdout",
          "text": [
            "(825, 2)\n"
          ]
        },
        {
          "output_type": "execute_result",
          "data": {
            "text/plain": [
              "   product_id id_web\n",
              "0        3847  15298\n",
              "1        3849  15296\n",
              "2        3850  15300\n",
              "3        4032  19814\n",
              "4        4039  19815"
            ],
            "text/html": [
              "\n",
              "  <div id=\"df-367a62c0-9730-4bbb-bc42-74ae34bca6ad\">\n",
              "    <div class=\"colab-df-container\">\n",
              "      <div>\n",
              "<style scoped>\n",
              "    .dataframe tbody tr th:only-of-type {\n",
              "        vertical-align: middle;\n",
              "    }\n",
              "\n",
              "    .dataframe tbody tr th {\n",
              "        vertical-align: top;\n",
              "    }\n",
              "\n",
              "    .dataframe thead th {\n",
              "        text-align: right;\n",
              "    }\n",
              "</style>\n",
              "<table border=\"1\" class=\"dataframe\">\n",
              "  <thead>\n",
              "    <tr style=\"text-align: right;\">\n",
              "      <th></th>\n",
              "      <th>product_id</th>\n",
              "      <th>id_web</th>\n",
              "    </tr>\n",
              "  </thead>\n",
              "  <tbody>\n",
              "    <tr>\n",
              "      <th>0</th>\n",
              "      <td>3847</td>\n",
              "      <td>15298</td>\n",
              "    </tr>\n",
              "    <tr>\n",
              "      <th>1</th>\n",
              "      <td>3849</td>\n",
              "      <td>15296</td>\n",
              "    </tr>\n",
              "    <tr>\n",
              "      <th>2</th>\n",
              "      <td>3850</td>\n",
              "      <td>15300</td>\n",
              "    </tr>\n",
              "    <tr>\n",
              "      <th>3</th>\n",
              "      <td>4032</td>\n",
              "      <td>19814</td>\n",
              "    </tr>\n",
              "    <tr>\n",
              "      <th>4</th>\n",
              "      <td>4039</td>\n",
              "      <td>19815</td>\n",
              "    </tr>\n",
              "  </tbody>\n",
              "</table>\n",
              "</div>\n",
              "      <button class=\"colab-df-convert\" onclick=\"convertToInteractive('df-367a62c0-9730-4bbb-bc42-74ae34bca6ad')\"\n",
              "              title=\"Convert this dataframe to an interactive table.\"\n",
              "              style=\"display:none;\">\n",
              "        \n",
              "  <svg xmlns=\"http://www.w3.org/2000/svg\" height=\"24px\"viewBox=\"0 0 24 24\"\n",
              "       width=\"24px\">\n",
              "    <path d=\"M0 0h24v24H0V0z\" fill=\"none\"/>\n",
              "    <path d=\"M18.56 5.44l.94 2.06.94-2.06 2.06-.94-2.06-.94-.94-2.06-.94 2.06-2.06.94zm-11 1L8.5 8.5l.94-2.06 2.06-.94-2.06-.94L8.5 2.5l-.94 2.06-2.06.94zm10 10l.94 2.06.94-2.06 2.06-.94-2.06-.94-.94-2.06-.94 2.06-2.06.94z\"/><path d=\"M17.41 7.96l-1.37-1.37c-.4-.4-.92-.59-1.43-.59-.52 0-1.04.2-1.43.59L10.3 9.45l-7.72 7.72c-.78.78-.78 2.05 0 2.83L4 21.41c.39.39.9.59 1.41.59.51 0 1.02-.2 1.41-.59l7.78-7.78 2.81-2.81c.8-.78.8-2.07 0-2.86zM5.41 20L4 18.59l7.72-7.72 1.47 1.35L5.41 20z\"/>\n",
              "  </svg>\n",
              "      </button>\n",
              "      \n",
              "  <style>\n",
              "    .colab-df-container {\n",
              "      display:flex;\n",
              "      flex-wrap:wrap;\n",
              "      gap: 12px;\n",
              "    }\n",
              "\n",
              "    .colab-df-convert {\n",
              "      background-color: #E8F0FE;\n",
              "      border: none;\n",
              "      border-radius: 50%;\n",
              "      cursor: pointer;\n",
              "      display: none;\n",
              "      fill: #1967D2;\n",
              "      height: 32px;\n",
              "      padding: 0 0 0 0;\n",
              "      width: 32px;\n",
              "    }\n",
              "\n",
              "    .colab-df-convert:hover {\n",
              "      background-color: #E2EBFA;\n",
              "      box-shadow: 0px 1px 2px rgba(60, 64, 67, 0.3), 0px 1px 3px 1px rgba(60, 64, 67, 0.15);\n",
              "      fill: #174EA6;\n",
              "    }\n",
              "\n",
              "    [theme=dark] .colab-df-convert {\n",
              "      background-color: #3B4455;\n",
              "      fill: #D2E3FC;\n",
              "    }\n",
              "\n",
              "    [theme=dark] .colab-df-convert:hover {\n",
              "      background-color: #434B5C;\n",
              "      box-shadow: 0px 1px 3px 1px rgba(0, 0, 0, 0.15);\n",
              "      filter: drop-shadow(0px 1px 2px rgba(0, 0, 0, 0.3));\n",
              "      fill: #FFFFFF;\n",
              "    }\n",
              "  </style>\n",
              "\n",
              "      <script>\n",
              "        const buttonEl =\n",
              "          document.querySelector('#df-367a62c0-9730-4bbb-bc42-74ae34bca6ad button.colab-df-convert');\n",
              "        buttonEl.style.display =\n",
              "          google.colab.kernel.accessAllowed ? 'block' : 'none';\n",
              "\n",
              "        async function convertToInteractive(key) {\n",
              "          const element = document.querySelector('#df-367a62c0-9730-4bbb-bc42-74ae34bca6ad');\n",
              "          const dataTable =\n",
              "            await google.colab.kernel.invokeFunction('convertToInteractive',\n",
              "                                                     [key], {});\n",
              "          if (!dataTable) return;\n",
              "\n",
              "          const docLinkHtml = 'Like what you see? Visit the ' +\n",
              "            '<a target=\"_blank\" href=https://colab.research.google.com/notebooks/data_table.ipynb>data table notebook</a>'\n",
              "            + ' to learn more about interactive tables.';\n",
              "          element.innerHTML = '';\n",
              "          dataTable['output_type'] = 'display_data';\n",
              "          await google.colab.output.renderOutput(dataTable, element);\n",
              "          const docLink = document.createElement('div');\n",
              "          docLink.innerHTML = docLinkHtml;\n",
              "          element.appendChild(docLink);\n",
              "        }\n",
              "      </script>\n",
              "    </div>\n",
              "  </div>\n",
              "  "
            ]
          },
          "metadata": {},
          "execution_count": 127
        }
      ]
    },
    {
      "cell_type": "code",
      "source": [
        "liaison.info()"
      ],
      "metadata": {
        "colab": {
          "base_uri": "https://localhost:8080/"
        },
        "id": "YPNut9b26H9z",
        "outputId": "acb77cae-a318-43fa-f330-f73e13958b53"
      },
      "execution_count": 128,
      "outputs": [
        {
          "output_type": "stream",
          "name": "stdout",
          "text": [
            "<class 'pandas.core.frame.DataFrame'>\n",
            "RangeIndex: 825 entries, 0 to 824\n",
            "Data columns (total 2 columns):\n",
            " #   Column      Non-Null Count  Dtype \n",
            "---  ------      --------------  ----- \n",
            " 0   product_id  825 non-null    int64 \n",
            " 1   id_web      734 non-null    object\n",
            "dtypes: int64(1), object(1)\n",
            "memory usage: 13.0+ KB\n"
          ]
        }
      ]
    },
    {
      "cell_type": "code",
      "source": [
        "print(erp.shape)\n",
        "erp.head()"
      ],
      "metadata": {
        "colab": {
          "base_uri": "https://localhost:8080/",
          "height": 221
        },
        "id": "iqEXGTp-xzAa",
        "outputId": "103cf5c0-2f1f-4bcf-b3f5-4d3b09ac4b66"
      },
      "execution_count": 129,
      "outputs": [
        {
          "output_type": "stream",
          "name": "stdout",
          "text": [
            "(825, 5)\n"
          ]
        },
        {
          "output_type": "execute_result",
          "data": {
            "text/plain": [
              "   product_id  onsale_web  price  stock_quantity stock_status\n",
              "0        3847           1   24.2               0   outofstock\n",
              "1        3849           1   34.3               0   outofstock\n",
              "2        3850           1   20.8               0   outofstock\n",
              "3        4032           1   14.1               0   outofstock\n",
              "4        4039           1   46.0               0   outofstock"
            ],
            "text/html": [
              "\n",
              "  <div id=\"df-4f8f74f8-b077-4754-9a07-a2a5e0c65d23\">\n",
              "    <div class=\"colab-df-container\">\n",
              "      <div>\n",
              "<style scoped>\n",
              "    .dataframe tbody tr th:only-of-type {\n",
              "        vertical-align: middle;\n",
              "    }\n",
              "\n",
              "    .dataframe tbody tr th {\n",
              "        vertical-align: top;\n",
              "    }\n",
              "\n",
              "    .dataframe thead th {\n",
              "        text-align: right;\n",
              "    }\n",
              "</style>\n",
              "<table border=\"1\" class=\"dataframe\">\n",
              "  <thead>\n",
              "    <tr style=\"text-align: right;\">\n",
              "      <th></th>\n",
              "      <th>product_id</th>\n",
              "      <th>onsale_web</th>\n",
              "      <th>price</th>\n",
              "      <th>stock_quantity</th>\n",
              "      <th>stock_status</th>\n",
              "    </tr>\n",
              "  </thead>\n",
              "  <tbody>\n",
              "    <tr>\n",
              "      <th>0</th>\n",
              "      <td>3847</td>\n",
              "      <td>1</td>\n",
              "      <td>24.2</td>\n",
              "      <td>0</td>\n",
              "      <td>outofstock</td>\n",
              "    </tr>\n",
              "    <tr>\n",
              "      <th>1</th>\n",
              "      <td>3849</td>\n",
              "      <td>1</td>\n",
              "      <td>34.3</td>\n",
              "      <td>0</td>\n",
              "      <td>outofstock</td>\n",
              "    </tr>\n",
              "    <tr>\n",
              "      <th>2</th>\n",
              "      <td>3850</td>\n",
              "      <td>1</td>\n",
              "      <td>20.8</td>\n",
              "      <td>0</td>\n",
              "      <td>outofstock</td>\n",
              "    </tr>\n",
              "    <tr>\n",
              "      <th>3</th>\n",
              "      <td>4032</td>\n",
              "      <td>1</td>\n",
              "      <td>14.1</td>\n",
              "      <td>0</td>\n",
              "      <td>outofstock</td>\n",
              "    </tr>\n",
              "    <tr>\n",
              "      <th>4</th>\n",
              "      <td>4039</td>\n",
              "      <td>1</td>\n",
              "      <td>46.0</td>\n",
              "      <td>0</td>\n",
              "      <td>outofstock</td>\n",
              "    </tr>\n",
              "  </tbody>\n",
              "</table>\n",
              "</div>\n",
              "      <button class=\"colab-df-convert\" onclick=\"convertToInteractive('df-4f8f74f8-b077-4754-9a07-a2a5e0c65d23')\"\n",
              "              title=\"Convert this dataframe to an interactive table.\"\n",
              "              style=\"display:none;\">\n",
              "        \n",
              "  <svg xmlns=\"http://www.w3.org/2000/svg\" height=\"24px\"viewBox=\"0 0 24 24\"\n",
              "       width=\"24px\">\n",
              "    <path d=\"M0 0h24v24H0V0z\" fill=\"none\"/>\n",
              "    <path d=\"M18.56 5.44l.94 2.06.94-2.06 2.06-.94-2.06-.94-.94-2.06-.94 2.06-2.06.94zm-11 1L8.5 8.5l.94-2.06 2.06-.94-2.06-.94L8.5 2.5l-.94 2.06-2.06.94zm10 10l.94 2.06.94-2.06 2.06-.94-2.06-.94-.94-2.06-.94 2.06-2.06.94z\"/><path d=\"M17.41 7.96l-1.37-1.37c-.4-.4-.92-.59-1.43-.59-.52 0-1.04.2-1.43.59L10.3 9.45l-7.72 7.72c-.78.78-.78 2.05 0 2.83L4 21.41c.39.39.9.59 1.41.59.51 0 1.02-.2 1.41-.59l7.78-7.78 2.81-2.81c.8-.78.8-2.07 0-2.86zM5.41 20L4 18.59l7.72-7.72 1.47 1.35L5.41 20z\"/>\n",
              "  </svg>\n",
              "      </button>\n",
              "      \n",
              "  <style>\n",
              "    .colab-df-container {\n",
              "      display:flex;\n",
              "      flex-wrap:wrap;\n",
              "      gap: 12px;\n",
              "    }\n",
              "\n",
              "    .colab-df-convert {\n",
              "      background-color: #E8F0FE;\n",
              "      border: none;\n",
              "      border-radius: 50%;\n",
              "      cursor: pointer;\n",
              "      display: none;\n",
              "      fill: #1967D2;\n",
              "      height: 32px;\n",
              "      padding: 0 0 0 0;\n",
              "      width: 32px;\n",
              "    }\n",
              "\n",
              "    .colab-df-convert:hover {\n",
              "      background-color: #E2EBFA;\n",
              "      box-shadow: 0px 1px 2px rgba(60, 64, 67, 0.3), 0px 1px 3px 1px rgba(60, 64, 67, 0.15);\n",
              "      fill: #174EA6;\n",
              "    }\n",
              "\n",
              "    [theme=dark] .colab-df-convert {\n",
              "      background-color: #3B4455;\n",
              "      fill: #D2E3FC;\n",
              "    }\n",
              "\n",
              "    [theme=dark] .colab-df-convert:hover {\n",
              "      background-color: #434B5C;\n",
              "      box-shadow: 0px 1px 3px 1px rgba(0, 0, 0, 0.15);\n",
              "      filter: drop-shadow(0px 1px 2px rgba(0, 0, 0, 0.3));\n",
              "      fill: #FFFFFF;\n",
              "    }\n",
              "  </style>\n",
              "\n",
              "      <script>\n",
              "        const buttonEl =\n",
              "          document.querySelector('#df-4f8f74f8-b077-4754-9a07-a2a5e0c65d23 button.colab-df-convert');\n",
              "        buttonEl.style.display =\n",
              "          google.colab.kernel.accessAllowed ? 'block' : 'none';\n",
              "\n",
              "        async function convertToInteractive(key) {\n",
              "          const element = document.querySelector('#df-4f8f74f8-b077-4754-9a07-a2a5e0c65d23');\n",
              "          const dataTable =\n",
              "            await google.colab.kernel.invokeFunction('convertToInteractive',\n",
              "                                                     [key], {});\n",
              "          if (!dataTable) return;\n",
              "\n",
              "          const docLinkHtml = 'Like what you see? Visit the ' +\n",
              "            '<a target=\"_blank\" href=https://colab.research.google.com/notebooks/data_table.ipynb>data table notebook</a>'\n",
              "            + ' to learn more about interactive tables.';\n",
              "          element.innerHTML = '';\n",
              "          dataTable['output_type'] = 'display_data';\n",
              "          await google.colab.output.renderOutput(dataTable, element);\n",
              "          const docLink = document.createElement('div');\n",
              "          docLink.innerHTML = docLinkHtml;\n",
              "          element.appendChild(docLink);\n",
              "        }\n",
              "      </script>\n",
              "    </div>\n",
              "  </div>\n",
              "  "
            ]
          },
          "metadata": {},
          "execution_count": 129
        }
      ]
    },
    {
      "cell_type": "code",
      "source": [
        "erp.info()"
      ],
      "metadata": {
        "colab": {
          "base_uri": "https://localhost:8080/"
        },
        "id": "zjuN0ucs6D-6",
        "outputId": "2e9bf0d9-63fa-4f85-895a-087fbe640e8f"
      },
      "execution_count": 130,
      "outputs": [
        {
          "output_type": "stream",
          "name": "stdout",
          "text": [
            "<class 'pandas.core.frame.DataFrame'>\n",
            "RangeIndex: 825 entries, 0 to 824\n",
            "Data columns (total 5 columns):\n",
            " #   Column          Non-Null Count  Dtype  \n",
            "---  ------          --------------  -----  \n",
            " 0   product_id      825 non-null    int64  \n",
            " 1   onsale_web      825 non-null    int64  \n",
            " 2   price           825 non-null    float64\n",
            " 3   stock_quantity  825 non-null    int64  \n",
            " 4   stock_status    825 non-null    object \n",
            "dtypes: float64(1), int64(3), object(1)\n",
            "memory usage: 32.4+ KB\n"
          ]
        }
      ]
    },
    {
      "cell_type": "markdown",
      "source": [
        "# On commence par compter le nombre de produits uniques référencés dans la DF"
      ],
      "metadata": {
        "id": "vMtmYs140MA4"
      }
    },
    {
      "cell_type": "code",
      "source": [
        "web.sku.nunique()"
      ],
      "metadata": {
        "colab": {
          "base_uri": "https://localhost:8080/"
        },
        "id": "o9B1FiDrx3ah",
        "outputId": "ae4619c4-a816-44a3-a83f-8176532d2f5b"
      },
      "execution_count": 131,
      "outputs": [
        {
          "output_type": "execute_result",
          "data": {
            "text/plain": [
              "714"
            ]
          },
          "metadata": {},
          "execution_count": 131
        }
      ]
    },
    {
      "cell_type": "markdown",
      "source": [
        "714 références uniques, pour 825 références attendues cela signifie que l'ensemble des produits listés dans les DF erp et liaison ne sont pas commercialisés en ligne"
      ],
      "metadata": {
        "id": "-18lVH7-0HF1"
      }
    },
    {
      "cell_type": "code",
      "source": [
        "webunique = web[web['sku'] == 15298]\n",
        "webunique"
      ],
      "metadata": {
        "colab": {
          "base_uri": "https://localhost:8080/",
          "height": 340
        },
        "id": "bJGDk4pl2ksP",
        "outputId": "3c4846f8-2372-4591-8b5a-579cc28ed2a9"
      },
      "execution_count": 132,
      "outputs": [
        {
          "output_type": "execute_result",
          "data": {
            "text/plain": [
              "       sku  virtual  downloadable  rating_count  average_rating  total_sales  \\\n",
              "1    15298        0             0             0             0.0          6.0   \n",
              "799  15298        0             0             0             0.0          6.0   \n",
              "\n",
              "    tax_status  tax_class  post_author           post_date  ...  \\\n",
              "1      taxable        NaN          2.0 2018-02-08 12:58:52  ...   \n",
              "799        NaN        NaN          2.0 2018-02-08 12:58:52  ...   \n",
              "\n",
              "                                       post_name       post_modified  \\\n",
              "1    pierre-jean-villa-saint-joseph-preface-2018 2019-12-30 09:30:29   \n",
              "799  pierre-jean-villa-saint-joseph-preface-2018 2019-12-30 09:30:29   \n",
              "\n",
              "      post_modified_gmt post_content_filtered post_parent  \\\n",
              "1   2019-12-30 08:30:29                   NaN         0.0   \n",
              "799 2019-12-30 08:30:29                   NaN         0.0   \n",
              "\n",
              "                                                  guid menu_order   post_type  \\\n",
              "1    https://www.bottle-neck.fr/?post_type=product&...        0.0     product   \n",
              "799  https://www.bottle-neck.fr/wp-content/uploads/...        0.0  attachment   \n",
              "\n",
              "    post_mime_type comment_count  \n",
              "1              NaN           0.0  \n",
              "799     image/jpeg           0.0  \n",
              "\n",
              "[2 rows x 28 columns]"
            ],
            "text/html": [
              "\n",
              "  <div id=\"df-d833b41a-3498-4308-a251-1eb382084e62\">\n",
              "    <div class=\"colab-df-container\">\n",
              "      <div>\n",
              "<style scoped>\n",
              "    .dataframe tbody tr th:only-of-type {\n",
              "        vertical-align: middle;\n",
              "    }\n",
              "\n",
              "    .dataframe tbody tr th {\n",
              "        vertical-align: top;\n",
              "    }\n",
              "\n",
              "    .dataframe thead th {\n",
              "        text-align: right;\n",
              "    }\n",
              "</style>\n",
              "<table border=\"1\" class=\"dataframe\">\n",
              "  <thead>\n",
              "    <tr style=\"text-align: right;\">\n",
              "      <th></th>\n",
              "      <th>sku</th>\n",
              "      <th>virtual</th>\n",
              "      <th>downloadable</th>\n",
              "      <th>rating_count</th>\n",
              "      <th>average_rating</th>\n",
              "      <th>total_sales</th>\n",
              "      <th>tax_status</th>\n",
              "      <th>tax_class</th>\n",
              "      <th>post_author</th>\n",
              "      <th>post_date</th>\n",
              "      <th>...</th>\n",
              "      <th>post_name</th>\n",
              "      <th>post_modified</th>\n",
              "      <th>post_modified_gmt</th>\n",
              "      <th>post_content_filtered</th>\n",
              "      <th>post_parent</th>\n",
              "      <th>guid</th>\n",
              "      <th>menu_order</th>\n",
              "      <th>post_type</th>\n",
              "      <th>post_mime_type</th>\n",
              "      <th>comment_count</th>\n",
              "    </tr>\n",
              "  </thead>\n",
              "  <tbody>\n",
              "    <tr>\n",
              "      <th>1</th>\n",
              "      <td>15298</td>\n",
              "      <td>0</td>\n",
              "      <td>0</td>\n",
              "      <td>0</td>\n",
              "      <td>0.0</td>\n",
              "      <td>6.0</td>\n",
              "      <td>taxable</td>\n",
              "      <td>NaN</td>\n",
              "      <td>2.0</td>\n",
              "      <td>2018-02-08 12:58:52</td>\n",
              "      <td>...</td>\n",
              "      <td>pierre-jean-villa-saint-joseph-preface-2018</td>\n",
              "      <td>2019-12-30 09:30:29</td>\n",
              "      <td>2019-12-30 08:30:29</td>\n",
              "      <td>NaN</td>\n",
              "      <td>0.0</td>\n",
              "      <td>https://www.bottle-neck.fr/?post_type=product&amp;...</td>\n",
              "      <td>0.0</td>\n",
              "      <td>product</td>\n",
              "      <td>NaN</td>\n",
              "      <td>0.0</td>\n",
              "    </tr>\n",
              "    <tr>\n",
              "      <th>799</th>\n",
              "      <td>15298</td>\n",
              "      <td>0</td>\n",
              "      <td>0</td>\n",
              "      <td>0</td>\n",
              "      <td>0.0</td>\n",
              "      <td>6.0</td>\n",
              "      <td>NaN</td>\n",
              "      <td>NaN</td>\n",
              "      <td>2.0</td>\n",
              "      <td>2018-02-08 12:58:52</td>\n",
              "      <td>...</td>\n",
              "      <td>pierre-jean-villa-saint-joseph-preface-2018</td>\n",
              "      <td>2019-12-30 09:30:29</td>\n",
              "      <td>2019-12-30 08:30:29</td>\n",
              "      <td>NaN</td>\n",
              "      <td>0.0</td>\n",
              "      <td>https://www.bottle-neck.fr/wp-content/uploads/...</td>\n",
              "      <td>0.0</td>\n",
              "      <td>attachment</td>\n",
              "      <td>image/jpeg</td>\n",
              "      <td>0.0</td>\n",
              "    </tr>\n",
              "  </tbody>\n",
              "</table>\n",
              "<p>2 rows × 28 columns</p>\n",
              "</div>\n",
              "      <button class=\"colab-df-convert\" onclick=\"convertToInteractive('df-d833b41a-3498-4308-a251-1eb382084e62')\"\n",
              "              title=\"Convert this dataframe to an interactive table.\"\n",
              "              style=\"display:none;\">\n",
              "        \n",
              "  <svg xmlns=\"http://www.w3.org/2000/svg\" height=\"24px\"viewBox=\"0 0 24 24\"\n",
              "       width=\"24px\">\n",
              "    <path d=\"M0 0h24v24H0V0z\" fill=\"none\"/>\n",
              "    <path d=\"M18.56 5.44l.94 2.06.94-2.06 2.06-.94-2.06-.94-.94-2.06-.94 2.06-2.06.94zm-11 1L8.5 8.5l.94-2.06 2.06-.94-2.06-.94L8.5 2.5l-.94 2.06-2.06.94zm10 10l.94 2.06.94-2.06 2.06-.94-2.06-.94-.94-2.06-.94 2.06-2.06.94z\"/><path d=\"M17.41 7.96l-1.37-1.37c-.4-.4-.92-.59-1.43-.59-.52 0-1.04.2-1.43.59L10.3 9.45l-7.72 7.72c-.78.78-.78 2.05 0 2.83L4 21.41c.39.39.9.59 1.41.59.51 0 1.02-.2 1.41-.59l7.78-7.78 2.81-2.81c.8-.78.8-2.07 0-2.86zM5.41 20L4 18.59l7.72-7.72 1.47 1.35L5.41 20z\"/>\n",
              "  </svg>\n",
              "      </button>\n",
              "      \n",
              "  <style>\n",
              "    .colab-df-container {\n",
              "      display:flex;\n",
              "      flex-wrap:wrap;\n",
              "      gap: 12px;\n",
              "    }\n",
              "\n",
              "    .colab-df-convert {\n",
              "      background-color: #E8F0FE;\n",
              "      border: none;\n",
              "      border-radius: 50%;\n",
              "      cursor: pointer;\n",
              "      display: none;\n",
              "      fill: #1967D2;\n",
              "      height: 32px;\n",
              "      padding: 0 0 0 0;\n",
              "      width: 32px;\n",
              "    }\n",
              "\n",
              "    .colab-df-convert:hover {\n",
              "      background-color: #E2EBFA;\n",
              "      box-shadow: 0px 1px 2px rgba(60, 64, 67, 0.3), 0px 1px 3px 1px rgba(60, 64, 67, 0.15);\n",
              "      fill: #174EA6;\n",
              "    }\n",
              "\n",
              "    [theme=dark] .colab-df-convert {\n",
              "      background-color: #3B4455;\n",
              "      fill: #D2E3FC;\n",
              "    }\n",
              "\n",
              "    [theme=dark] .colab-df-convert:hover {\n",
              "      background-color: #434B5C;\n",
              "      box-shadow: 0px 1px 3px 1px rgba(0, 0, 0, 0.15);\n",
              "      filter: drop-shadow(0px 1px 2px rgba(0, 0, 0, 0.3));\n",
              "      fill: #FFFFFF;\n",
              "    }\n",
              "  </style>\n",
              "\n",
              "      <script>\n",
              "        const buttonEl =\n",
              "          document.querySelector('#df-d833b41a-3498-4308-a251-1eb382084e62 button.colab-df-convert');\n",
              "        buttonEl.style.display =\n",
              "          google.colab.kernel.accessAllowed ? 'block' : 'none';\n",
              "\n",
              "        async function convertToInteractive(key) {\n",
              "          const element = document.querySelector('#df-d833b41a-3498-4308-a251-1eb382084e62');\n",
              "          const dataTable =\n",
              "            await google.colab.kernel.invokeFunction('convertToInteractive',\n",
              "                                                     [key], {});\n",
              "          if (!dataTable) return;\n",
              "\n",
              "          const docLinkHtml = 'Like what you see? Visit the ' +\n",
              "            '<a target=\"_blank\" href=https://colab.research.google.com/notebooks/data_table.ipynb>data table notebook</a>'\n",
              "            + ' to learn more about interactive tables.';\n",
              "          element.innerHTML = '';\n",
              "          dataTable['output_type'] = 'display_data';\n",
              "          await google.colab.output.renderOutput(dataTable, element);\n",
              "          const docLink = document.createElement('div');\n",
              "          docLink.innerHTML = docLinkHtml;\n",
              "          element.appendChild(docLink);\n",
              "        }\n",
              "      </script>\n",
              "    </div>\n",
              "  </div>\n",
              "  "
            ]
          },
          "metadata": {},
          "execution_count": 132
        }
      ]
    },
    {
      "cell_type": "markdown",
      "source": [
        "La DF web est issue du Content Management System du site web.\n",
        "\n",
        "Nous constatons que les produits sont référencés dans la DF web au travers de deux lignes.\n",
        "\n",
        "en observant la colonne post_type, on comprend que l'une des deux lignes correspond au texte descriptif du produit quand l'autre correspond aux illustrations du produit sur le site.\n",
        "\n",
        "c'est donc une colonne adéquate pour éliminer les doublons en ne gardant qu'un seul type de ligne.\n",
        "\n",
        "Nous conserverons donc les colonnes:\n",
        "\n",
        "1. \"sku\" que nous renommerons en \"id_web\" pour faciliter la lecture et la jointure avec la df liaison.\n",
        "\n",
        "2. \"total_sales\" dont nous aurons besoin pour les calculs de CA qui nous ont été demandés.\n",
        "\n",
        "3. \"post_name\" que nous renommerons en \"product_name\" pour connaitre le nom des produits\n",
        "\n",
        "4. \"post_type\" afin de pouvoir trier les doublons\n"
      ],
      "metadata": {
        "id": "Ak-iUl8Mb20s"
      }
    },
    {
      "cell_type": "markdown",
      "source": [
        "# nettoyage et mise en forme des données df web"
      ],
      "metadata": {
        "id": "1LPl4LIrdHji"
      }
    },
    {
      "cell_type": "markdown",
      "source": [
        "# changement nom de colonnes"
      ],
      "metadata": {
        "id": "XATCqE4HdKVr"
      }
    },
    {
      "cell_type": "code",
      "source": [
        "web.rename(columns={\"sku\": \"id_web\",\"post_name\" : \"product_name\"}, inplace=True)"
      ],
      "metadata": {
        "id": "s0gJf3eVdNKR"
      },
      "execution_count": 133,
      "outputs": []
    },
    {
      "cell_type": "markdown",
      "source": [
        "# drop de colonnes"
      ],
      "metadata": {
        "id": "rnDfkFOjdUaw"
      }
    },
    {
      "cell_type": "code",
      "source": [
        "web = web.drop([\"virtual\", \"downloadable\", \"rating_count\",\"average_rating\",  \"tax_class\", \"post_author\", \"post_date\",\"post_date_gmt\", \"post_content\", \"post_title\", \"post_excerpt\", \"post_status\", \"comment_status\", \"ping_status\", \"post_password\", \"post_modified\", \"post_modified_gmt\", \"post_content_filtered\", \"post_parent\", \"guid\", \"menu_order\", \"tax_status\", \"post_mime_type\", \"comment_count\" ], axis=1)\n",
        "erp = erp.drop([\"stock_status\"], axis=1)"
      ],
      "metadata": {
        "id": "XPyflYuTdYPD"
      },
      "execution_count": 134,
      "outputs": []
    },
    {
      "cell_type": "markdown",
      "source": [
        "# drop de lignes"
      ],
      "metadata": {
        "id": "hAl5OBXQdpMK"
      }
    },
    {
      "cell_type": "code",
      "source": [
        "web = web[web.post_type == 'product']"
      ],
      "metadata": {
        "id": "JU0p3DbHdrjw"
      },
      "execution_count": 135,
      "outputs": []
    },
    {
      "cell_type": "code",
      "source": [
        "print(web.shape)\n",
        "web.head()"
      ],
      "metadata": {
        "colab": {
          "base_uri": "https://localhost:8080/",
          "height": 221
        },
        "id": "pHf_IZu-ceUd",
        "outputId": "4b4cba1b-e343-4c16-83c6-046443626393"
      },
      "execution_count": 136,
      "outputs": [
        {
          "output_type": "stream",
          "name": "stdout",
          "text": [
            "(716, 4)\n"
          ]
        },
        {
          "output_type": "execute_result",
          "data": {
            "text/plain": [
              "                id_web  total_sales  \\\n",
              "0  bon-cadeau-25-euros         10.0   \n",
              "1                15298          6.0   \n",
              "2                15296          0.0   \n",
              "3                15300          0.0   \n",
              "4                19814          3.0   \n",
              "\n",
              "                                        product_name post_type  \n",
              "0                             bon-cadeau-de-25-euros   product  \n",
              "1        pierre-jean-villa-saint-joseph-preface-2018   product  \n",
              "2          pierre-jean-villa-saint-joseph-tilde-2017   product  \n",
              "3  pierre-jean-villa-croze-hermitage-accroche-coe...   product  \n",
              "4                  pierre-jean-villa-igp-gamine-2018   product  "
            ],
            "text/html": [
              "\n",
              "  <div id=\"df-ce611d10-1dc0-40c9-94f0-bbe35f039f6f\">\n",
              "    <div class=\"colab-df-container\">\n",
              "      <div>\n",
              "<style scoped>\n",
              "    .dataframe tbody tr th:only-of-type {\n",
              "        vertical-align: middle;\n",
              "    }\n",
              "\n",
              "    .dataframe tbody tr th {\n",
              "        vertical-align: top;\n",
              "    }\n",
              "\n",
              "    .dataframe thead th {\n",
              "        text-align: right;\n",
              "    }\n",
              "</style>\n",
              "<table border=\"1\" class=\"dataframe\">\n",
              "  <thead>\n",
              "    <tr style=\"text-align: right;\">\n",
              "      <th></th>\n",
              "      <th>id_web</th>\n",
              "      <th>total_sales</th>\n",
              "      <th>product_name</th>\n",
              "      <th>post_type</th>\n",
              "    </tr>\n",
              "  </thead>\n",
              "  <tbody>\n",
              "    <tr>\n",
              "      <th>0</th>\n",
              "      <td>bon-cadeau-25-euros</td>\n",
              "      <td>10.0</td>\n",
              "      <td>bon-cadeau-de-25-euros</td>\n",
              "      <td>product</td>\n",
              "    </tr>\n",
              "    <tr>\n",
              "      <th>1</th>\n",
              "      <td>15298</td>\n",
              "      <td>6.0</td>\n",
              "      <td>pierre-jean-villa-saint-joseph-preface-2018</td>\n",
              "      <td>product</td>\n",
              "    </tr>\n",
              "    <tr>\n",
              "      <th>2</th>\n",
              "      <td>15296</td>\n",
              "      <td>0.0</td>\n",
              "      <td>pierre-jean-villa-saint-joseph-tilde-2017</td>\n",
              "      <td>product</td>\n",
              "    </tr>\n",
              "    <tr>\n",
              "      <th>3</th>\n",
              "      <td>15300</td>\n",
              "      <td>0.0</td>\n",
              "      <td>pierre-jean-villa-croze-hermitage-accroche-coe...</td>\n",
              "      <td>product</td>\n",
              "    </tr>\n",
              "    <tr>\n",
              "      <th>4</th>\n",
              "      <td>19814</td>\n",
              "      <td>3.0</td>\n",
              "      <td>pierre-jean-villa-igp-gamine-2018</td>\n",
              "      <td>product</td>\n",
              "    </tr>\n",
              "  </tbody>\n",
              "</table>\n",
              "</div>\n",
              "      <button class=\"colab-df-convert\" onclick=\"convertToInteractive('df-ce611d10-1dc0-40c9-94f0-bbe35f039f6f')\"\n",
              "              title=\"Convert this dataframe to an interactive table.\"\n",
              "              style=\"display:none;\">\n",
              "        \n",
              "  <svg xmlns=\"http://www.w3.org/2000/svg\" height=\"24px\"viewBox=\"0 0 24 24\"\n",
              "       width=\"24px\">\n",
              "    <path d=\"M0 0h24v24H0V0z\" fill=\"none\"/>\n",
              "    <path d=\"M18.56 5.44l.94 2.06.94-2.06 2.06-.94-2.06-.94-.94-2.06-.94 2.06-2.06.94zm-11 1L8.5 8.5l.94-2.06 2.06-.94-2.06-.94L8.5 2.5l-.94 2.06-2.06.94zm10 10l.94 2.06.94-2.06 2.06-.94-2.06-.94-.94-2.06-.94 2.06-2.06.94z\"/><path d=\"M17.41 7.96l-1.37-1.37c-.4-.4-.92-.59-1.43-.59-.52 0-1.04.2-1.43.59L10.3 9.45l-7.72 7.72c-.78.78-.78 2.05 0 2.83L4 21.41c.39.39.9.59 1.41.59.51 0 1.02-.2 1.41-.59l7.78-7.78 2.81-2.81c.8-.78.8-2.07 0-2.86zM5.41 20L4 18.59l7.72-7.72 1.47 1.35L5.41 20z\"/>\n",
              "  </svg>\n",
              "      </button>\n",
              "      \n",
              "  <style>\n",
              "    .colab-df-container {\n",
              "      display:flex;\n",
              "      flex-wrap:wrap;\n",
              "      gap: 12px;\n",
              "    }\n",
              "\n",
              "    .colab-df-convert {\n",
              "      background-color: #E8F0FE;\n",
              "      border: none;\n",
              "      border-radius: 50%;\n",
              "      cursor: pointer;\n",
              "      display: none;\n",
              "      fill: #1967D2;\n",
              "      height: 32px;\n",
              "      padding: 0 0 0 0;\n",
              "      width: 32px;\n",
              "    }\n",
              "\n",
              "    .colab-df-convert:hover {\n",
              "      background-color: #E2EBFA;\n",
              "      box-shadow: 0px 1px 2px rgba(60, 64, 67, 0.3), 0px 1px 3px 1px rgba(60, 64, 67, 0.15);\n",
              "      fill: #174EA6;\n",
              "    }\n",
              "\n",
              "    [theme=dark] .colab-df-convert {\n",
              "      background-color: #3B4455;\n",
              "      fill: #D2E3FC;\n",
              "    }\n",
              "\n",
              "    [theme=dark] .colab-df-convert:hover {\n",
              "      background-color: #434B5C;\n",
              "      box-shadow: 0px 1px 3px 1px rgba(0, 0, 0, 0.15);\n",
              "      filter: drop-shadow(0px 1px 2px rgba(0, 0, 0, 0.3));\n",
              "      fill: #FFFFFF;\n",
              "    }\n",
              "  </style>\n",
              "\n",
              "      <script>\n",
              "        const buttonEl =\n",
              "          document.querySelector('#df-ce611d10-1dc0-40c9-94f0-bbe35f039f6f button.colab-df-convert');\n",
              "        buttonEl.style.display =\n",
              "          google.colab.kernel.accessAllowed ? 'block' : 'none';\n",
              "\n",
              "        async function convertToInteractive(key) {\n",
              "          const element = document.querySelector('#df-ce611d10-1dc0-40c9-94f0-bbe35f039f6f');\n",
              "          const dataTable =\n",
              "            await google.colab.kernel.invokeFunction('convertToInteractive',\n",
              "                                                     [key], {});\n",
              "          if (!dataTable) return;\n",
              "\n",
              "          const docLinkHtml = 'Like what you see? Visit the ' +\n",
              "            '<a target=\"_blank\" href=https://colab.research.google.com/notebooks/data_table.ipynb>data table notebook</a>'\n",
              "            + ' to learn more about interactive tables.';\n",
              "          element.innerHTML = '';\n",
              "          dataTable['output_type'] = 'display_data';\n",
              "          await google.colab.output.renderOutput(dataTable, element);\n",
              "          const docLink = document.createElement('div');\n",
              "          docLink.innerHTML = docLinkHtml;\n",
              "          element.appendChild(docLink);\n",
              "        }\n",
              "      </script>\n",
              "    </div>\n",
              "  </div>\n",
              "  "
            ]
          },
          "metadata": {},
          "execution_count": 136
        }
      ]
    },
    {
      "cell_type": "markdown",
      "source": [
        "Les questions posées correspondant exclusivement aux produits en ligne, nous éliminerons les produits non commercialisés sur le site."
      ],
      "metadata": {
        "id": "8PPvclwKLZRi"
      }
    },
    {
      "cell_type": "markdown",
      "source": [
        "créations de bases"
      ],
      "metadata": {
        "id": "wYSrNRBRLh09"
      }
    },
    {
      "cell_type": "code",
      "source": [
        "all_bases = {\"erp\" : erp,\"liaisons\" : liaison,\"web\" : web}"
      ],
      "metadata": {
        "id": "qKzUnFYSLnAd"
      },
      "execution_count": 137,
      "outputs": []
    },
    {
      "cell_type": "markdown",
      "source": [
        " création d'une base erp_online qui ne contient que les lignes d'erp correspondant à des produits commercialisés en ligne."
      ],
      "metadata": {
        "id": "AmSV4pVtL5sU"
      }
    },
    {
      "cell_type": "code",
      "source": [
        "erp_online = erp[erp.onsale_web == 1]"
      ],
      "metadata": {
        "id": "3YVI5x_0Lsty"
      },
      "execution_count": 138,
      "outputs": []
    },
    {
      "cell_type": "code",
      "source": [
        "def cle_primaire(df_cle): # Vérification de la clé primaire\n",
        "  table_length = len(df_cle) - len(df_cle.drop_duplicates())\n",
        "  if table_length == 0:\n",
        "    print('Clé primaire (0 doublon)')\n",
        "  else:\n",
        "    print('Pas une clé primaire (', table_length, 'doublons )')\n",
        "    \n",
        "cle_primaire(erp_online['product_id'])"
      ],
      "metadata": {
        "colab": {
          "base_uri": "https://localhost:8080/"
        },
        "id": "eHZdJgAT2bR-",
        "outputId": "bb679cd7-f784-4dd6-ce38-12a60dc42bdb"
      },
      "execution_count": 139,
      "outputs": [
        {
          "output_type": "stream",
          "name": "stdout",
          "text": [
            "Clé primaire (0 doublon)\n"
          ]
        }
      ]
    },
    {
      "cell_type": "code",
      "source": [
        "def cle_primaire(df_cle): # Vérification de la clé primaire\n",
        "  table_length = len(df_cle) - len(df_cle.drop_duplicates())\n",
        "  if table_length == 0:\n",
        "    print('Clé primaire (0 doublon)')\n",
        "  else:\n",
        "    print('Pas une clé primaire (', table_length, 'doublons )')\n",
        "    \n",
        "cle_primaire(liaison['product_id'])"
      ],
      "metadata": {
        "colab": {
          "base_uri": "https://localhost:8080/"
        },
        "id": "Gyl8Npzt2yyW",
        "outputId": "9ff2b497-37e0-45e7-ee64-3880a23e5315"
      },
      "execution_count": 140,
      "outputs": [
        {
          "output_type": "stream",
          "name": "stdout",
          "text": [
            "Clé primaire (0 doublon)\n"
          ]
        }
      ]
    },
    {
      "cell_type": "markdown",
      "source": [
        " jointures\n",
        " entre l'erp \"en ligne\" et le fichier de liaison:"
      ],
      "metadata": {
        "id": "gPYXvv0XMHAl"
      }
    },
    {
      "cell_type": "code",
      "source": [
        "erp_online_liaison = pd.merge(erp_online, liaison, how=\"outer\", on=\"product_id\")"
      ],
      "metadata": {
        "id": "F66pTDSwMCRP"
      },
      "execution_count": 141,
      "outputs": []
    },
    {
      "cell_type": "markdown",
      "source": [
        "entre le fichier web et le fichier de liaison:"
      ],
      "metadata": {
        "id": "b21XyUKyMPk8"
      }
    },
    {
      "cell_type": "code",
      "source": [
        "web_liaison = pd.merge(web, liaison, how=\"outer\", on=\"id_web\")"
      ],
      "metadata": {
        "id": "gdqkf34nMLyQ"
      },
      "execution_count": 142,
      "outputs": []
    },
    {
      "cell_type": "markdown",
      "source": [
        "entre l'erp \"en ligne\" et la jointure du fichier web et liaison:"
      ],
      "metadata": {
        "id": "wtcSTHFiMZd8"
      }
    },
    {
      "cell_type": "code",
      "source": [
        "total_base = pd.merge(erp_online, web_liaison, on=\"product_id\")"
      ],
      "metadata": {
        "id": "zMk6TtlLMbmb"
      },
      "execution_count": 143,
      "outputs": []
    },
    {
      "cell_type": "markdown",
      "source": [
        "suppression des 3 NaN correspondant aux produits référencés dans erp_online et pas dans web"
      ],
      "metadata": {
        "id": "V6WLa0naM65w"
      }
    },
    {
      "cell_type": "code",
      "source": [
        "total_base = total_base[total_base.id_web.isna() == False]"
      ],
      "metadata": {
        "id": "047sYrI8Md_d"
      },
      "execution_count": 144,
      "outputs": []
    },
    {
      "cell_type": "markdown",
      "source": [
        "calcul de la valeur du stock"
      ],
      "metadata": {
        "id": "53LF1IP8NBZA"
      }
    },
    {
      "cell_type": "code",
      "source": [
        "total_base[\"valeur_stock\"] = total_base.stock_quantity * total_base.price"
      ],
      "metadata": {
        "id": "WxobDA3xM-JQ"
      },
      "execution_count": 145,
      "outputs": []
    },
    {
      "cell_type": "markdown",
      "source": [
        "chiffre d'affaire "
      ],
      "metadata": {
        "id": "ozcrL3S7N5CG"
      }
    },
    {
      "cell_type": "code",
      "source": [
        "total_base[\"chiffre_affaire\"] = total_base['price']*total_base['total_sales']"
      ],
      "metadata": {
        "id": "j-MkmqGFNyWP"
      },
      "execution_count": 146,
      "outputs": []
    },
    {
      "cell_type": "markdown",
      "source": [
        "valeur stock > CA"
      ],
      "metadata": {
        "id": "P5HQKpALOee8"
      }
    },
    {
      "cell_type": "code",
      "source": [
        "total_base[\"stockSupCA\"] = total_base.valeur_stock > total_base.chiffre_affaire"
      ],
      "metadata": {
        "id": "POWLqdlmOd1S"
      },
      "execution_count": 147,
      "outputs": []
    },
    {
      "cell_type": "markdown",
      "source": [
        "ajout d'un Booleen si le produit s'est déjà vendu"
      ],
      "metadata": {
        "id": "wG0ckLBCPlTx"
      }
    },
    {
      "cell_type": "code",
      "source": [
        "total_base[\"sold\"] = total_base.chiffre_affaire > 0 "
      ],
      "metadata": {
        "id": "eOeViKLON8Y9"
      },
      "execution_count": 148,
      "outputs": []
    },
    {
      "cell_type": "code",
      "source": [
        "total_base.head()"
      ],
      "metadata": {
        "colab": {
          "base_uri": "https://localhost:8080/",
          "height": 204
        },
        "id": "QkeDbYTVPoSH",
        "outputId": "21b01bb1-fa4c-4314-c6f7-f6c50eefe62f"
      },
      "execution_count": 149,
      "outputs": [
        {
          "output_type": "execute_result",
          "data": {
            "text/plain": [
              "   product_id  onsale_web  price  stock_quantity id_web  total_sales  \\\n",
              "0        3847           1   24.2               0  15298          6.0   \n",
              "1        3849           1   34.3               0  15296          0.0   \n",
              "2        3850           1   20.8               0  15300          0.0   \n",
              "3        4032           1   14.1               0  19814          3.0   \n",
              "4        4039           1   46.0               0  19815          0.0   \n",
              "\n",
              "                                        product_name post_type  valeur_stock  \\\n",
              "0        pierre-jean-villa-saint-joseph-preface-2018   product           0.0   \n",
              "1          pierre-jean-villa-saint-joseph-tilde-2017   product           0.0   \n",
              "2  pierre-jean-villa-croze-hermitage-accroche-coe...   product           0.0   \n",
              "3                  pierre-jean-villa-igp-gamine-2018   product           0.0   \n",
              "4          pierre-jean-villa-cote-rotie-carmina-2017   product           0.0   \n",
              "\n",
              "   chiffre_affaire  stockSupCA   sold  \n",
              "0            145.2       False   True  \n",
              "1              0.0       False  False  \n",
              "2              0.0       False  False  \n",
              "3             42.3       False   True  \n",
              "4              0.0       False  False  "
            ],
            "text/html": [
              "\n",
              "  <div id=\"df-b0737f74-ebb2-43b0-88f9-fce21a561608\">\n",
              "    <div class=\"colab-df-container\">\n",
              "      <div>\n",
              "<style scoped>\n",
              "    .dataframe tbody tr th:only-of-type {\n",
              "        vertical-align: middle;\n",
              "    }\n",
              "\n",
              "    .dataframe tbody tr th {\n",
              "        vertical-align: top;\n",
              "    }\n",
              "\n",
              "    .dataframe thead th {\n",
              "        text-align: right;\n",
              "    }\n",
              "</style>\n",
              "<table border=\"1\" class=\"dataframe\">\n",
              "  <thead>\n",
              "    <tr style=\"text-align: right;\">\n",
              "      <th></th>\n",
              "      <th>product_id</th>\n",
              "      <th>onsale_web</th>\n",
              "      <th>price</th>\n",
              "      <th>stock_quantity</th>\n",
              "      <th>id_web</th>\n",
              "      <th>total_sales</th>\n",
              "      <th>product_name</th>\n",
              "      <th>post_type</th>\n",
              "      <th>valeur_stock</th>\n",
              "      <th>chiffre_affaire</th>\n",
              "      <th>stockSupCA</th>\n",
              "      <th>sold</th>\n",
              "    </tr>\n",
              "  </thead>\n",
              "  <tbody>\n",
              "    <tr>\n",
              "      <th>0</th>\n",
              "      <td>3847</td>\n",
              "      <td>1</td>\n",
              "      <td>24.2</td>\n",
              "      <td>0</td>\n",
              "      <td>15298</td>\n",
              "      <td>6.0</td>\n",
              "      <td>pierre-jean-villa-saint-joseph-preface-2018</td>\n",
              "      <td>product</td>\n",
              "      <td>0.0</td>\n",
              "      <td>145.2</td>\n",
              "      <td>False</td>\n",
              "      <td>True</td>\n",
              "    </tr>\n",
              "    <tr>\n",
              "      <th>1</th>\n",
              "      <td>3849</td>\n",
              "      <td>1</td>\n",
              "      <td>34.3</td>\n",
              "      <td>0</td>\n",
              "      <td>15296</td>\n",
              "      <td>0.0</td>\n",
              "      <td>pierre-jean-villa-saint-joseph-tilde-2017</td>\n",
              "      <td>product</td>\n",
              "      <td>0.0</td>\n",
              "      <td>0.0</td>\n",
              "      <td>False</td>\n",
              "      <td>False</td>\n",
              "    </tr>\n",
              "    <tr>\n",
              "      <th>2</th>\n",
              "      <td>3850</td>\n",
              "      <td>1</td>\n",
              "      <td>20.8</td>\n",
              "      <td>0</td>\n",
              "      <td>15300</td>\n",
              "      <td>0.0</td>\n",
              "      <td>pierre-jean-villa-croze-hermitage-accroche-coe...</td>\n",
              "      <td>product</td>\n",
              "      <td>0.0</td>\n",
              "      <td>0.0</td>\n",
              "      <td>False</td>\n",
              "      <td>False</td>\n",
              "    </tr>\n",
              "    <tr>\n",
              "      <th>3</th>\n",
              "      <td>4032</td>\n",
              "      <td>1</td>\n",
              "      <td>14.1</td>\n",
              "      <td>0</td>\n",
              "      <td>19814</td>\n",
              "      <td>3.0</td>\n",
              "      <td>pierre-jean-villa-igp-gamine-2018</td>\n",
              "      <td>product</td>\n",
              "      <td>0.0</td>\n",
              "      <td>42.3</td>\n",
              "      <td>False</td>\n",
              "      <td>True</td>\n",
              "    </tr>\n",
              "    <tr>\n",
              "      <th>4</th>\n",
              "      <td>4039</td>\n",
              "      <td>1</td>\n",
              "      <td>46.0</td>\n",
              "      <td>0</td>\n",
              "      <td>19815</td>\n",
              "      <td>0.0</td>\n",
              "      <td>pierre-jean-villa-cote-rotie-carmina-2017</td>\n",
              "      <td>product</td>\n",
              "      <td>0.0</td>\n",
              "      <td>0.0</td>\n",
              "      <td>False</td>\n",
              "      <td>False</td>\n",
              "    </tr>\n",
              "  </tbody>\n",
              "</table>\n",
              "</div>\n",
              "      <button class=\"colab-df-convert\" onclick=\"convertToInteractive('df-b0737f74-ebb2-43b0-88f9-fce21a561608')\"\n",
              "              title=\"Convert this dataframe to an interactive table.\"\n",
              "              style=\"display:none;\">\n",
              "        \n",
              "  <svg xmlns=\"http://www.w3.org/2000/svg\" height=\"24px\"viewBox=\"0 0 24 24\"\n",
              "       width=\"24px\">\n",
              "    <path d=\"M0 0h24v24H0V0z\" fill=\"none\"/>\n",
              "    <path d=\"M18.56 5.44l.94 2.06.94-2.06 2.06-.94-2.06-.94-.94-2.06-.94 2.06-2.06.94zm-11 1L8.5 8.5l.94-2.06 2.06-.94-2.06-.94L8.5 2.5l-.94 2.06-2.06.94zm10 10l.94 2.06.94-2.06 2.06-.94-2.06-.94-.94-2.06-.94 2.06-2.06.94z\"/><path d=\"M17.41 7.96l-1.37-1.37c-.4-.4-.92-.59-1.43-.59-.52 0-1.04.2-1.43.59L10.3 9.45l-7.72 7.72c-.78.78-.78 2.05 0 2.83L4 21.41c.39.39.9.59 1.41.59.51 0 1.02-.2 1.41-.59l7.78-7.78 2.81-2.81c.8-.78.8-2.07 0-2.86zM5.41 20L4 18.59l7.72-7.72 1.47 1.35L5.41 20z\"/>\n",
              "  </svg>\n",
              "      </button>\n",
              "      \n",
              "  <style>\n",
              "    .colab-df-container {\n",
              "      display:flex;\n",
              "      flex-wrap:wrap;\n",
              "      gap: 12px;\n",
              "    }\n",
              "\n",
              "    .colab-df-convert {\n",
              "      background-color: #E8F0FE;\n",
              "      border: none;\n",
              "      border-radius: 50%;\n",
              "      cursor: pointer;\n",
              "      display: none;\n",
              "      fill: #1967D2;\n",
              "      height: 32px;\n",
              "      padding: 0 0 0 0;\n",
              "      width: 32px;\n",
              "    }\n",
              "\n",
              "    .colab-df-convert:hover {\n",
              "      background-color: #E2EBFA;\n",
              "      box-shadow: 0px 1px 2px rgba(60, 64, 67, 0.3), 0px 1px 3px 1px rgba(60, 64, 67, 0.15);\n",
              "      fill: #174EA6;\n",
              "    }\n",
              "\n",
              "    [theme=dark] .colab-df-convert {\n",
              "      background-color: #3B4455;\n",
              "      fill: #D2E3FC;\n",
              "    }\n",
              "\n",
              "    [theme=dark] .colab-df-convert:hover {\n",
              "      background-color: #434B5C;\n",
              "      box-shadow: 0px 1px 3px 1px rgba(0, 0, 0, 0.15);\n",
              "      filter: drop-shadow(0px 1px 2px rgba(0, 0, 0, 0.3));\n",
              "      fill: #FFFFFF;\n",
              "    }\n",
              "  </style>\n",
              "\n",
              "      <script>\n",
              "        const buttonEl =\n",
              "          document.querySelector('#df-b0737f74-ebb2-43b0-88f9-fce21a561608 button.colab-df-convert');\n",
              "        buttonEl.style.display =\n",
              "          google.colab.kernel.accessAllowed ? 'block' : 'none';\n",
              "\n",
              "        async function convertToInteractive(key) {\n",
              "          const element = document.querySelector('#df-b0737f74-ebb2-43b0-88f9-fce21a561608');\n",
              "          const dataTable =\n",
              "            await google.colab.kernel.invokeFunction('convertToInteractive',\n",
              "                                                     [key], {});\n",
              "          if (!dataTable) return;\n",
              "\n",
              "          const docLinkHtml = 'Like what you see? Visit the ' +\n",
              "            '<a target=\"_blank\" href=https://colab.research.google.com/notebooks/data_table.ipynb>data table notebook</a>'\n",
              "            + ' to learn more about interactive tables.';\n",
              "          element.innerHTML = '';\n",
              "          dataTable['output_type'] = 'display_data';\n",
              "          await google.colab.output.renderOutput(dataTable, element);\n",
              "          const docLink = document.createElement('div');\n",
              "          docLink.innerHTML = docLinkHtml;\n",
              "          element.appendChild(docLink);\n",
              "        }\n",
              "      </script>\n",
              "    </div>\n",
              "  </div>\n",
              "  "
            ]
          },
          "metadata": {},
          "execution_count": 149
        }
      ]
    },
    {
      "cell_type": "markdown",
      "source": [
        "On avait créé une DF en procédant à une jointure entre les 3 DF fournies dans la section \"variables et fonctions\"."
      ],
      "metadata": {
        "id": "cCpDaJGARs3O"
      }
    },
    {
      "cell_type": "markdown",
      "source": [
        "Résolution des problèmes énoncés\n",
        " On appelle une ligne au hazard pour avoir un apperçu des informations contenue dans la DF"
      ],
      "metadata": {
        "id": "6TuwpgtRRyV0"
      }
    },
    {
      "cell_type": "code",
      "source": [
        "total_base.iloc[230]"
      ],
      "metadata": {
        "colab": {
          "base_uri": "https://localhost:8080/"
        },
        "id": "E-4Ww7jVRu-s",
        "outputId": "696b4371-c0ad-4466-9a4b-937948f01fdf"
      },
      "execution_count": 150,
      "outputs": [
        {
          "output_type": "execute_result",
          "data": {
            "text/plain": [
              "product_id                                                    4598\n",
              "onsale_web                                                       1\n",
              "price                                                         41.8\n",
              "stock_quantity                                                  61\n",
              "id_web                                                       15478\n",
              "total_sales                                                    1.0\n",
              "product_name       marc-colin-et-fils-saint-aubin-en-montceau-2017\n",
              "post_type                                                  product\n",
              "valeur_stock                                                2549.8\n",
              "chiffre_affaire                                               41.8\n",
              "stockSupCA                                                    True\n",
              "sold                                                          True\n",
              "Name: 232, dtype: object"
            ]
          },
          "metadata": {},
          "execution_count": 150
        }
      ]
    },
    {
      "cell_type": "markdown",
      "source": [
        "Comme nous avions retiré de la DF tous les produits non commercialisés en ligne, il nous suffit de faire la somme des valeurs de la colonne chiffre_affaire"
      ],
      "metadata": {
        "id": "FBC7HzbySgUN"
      }
    },
    {
      "cell_type": "markdown",
      "source": [
        "total du chiffre d'affaire réalisé en ligne"
      ],
      "metadata": {
        "id": "WuZIRvqYSk6s"
      }
    },
    {
      "cell_type": "code",
      "source": [
        "ca_total = total_base.chiffre_affaire.sum()\n",
        "print(f\"total du chiffre d'affaire en ligne : {ca_total} €\")"
      ],
      "metadata": {
        "colab": {
          "base_uri": "https://localhost:8080/"
        },
        "id": "2h_zIfQaSASp",
        "outputId": "966c6844-cc80-4844-81c9-9fd0fc6e7b48"
      },
      "execution_count": 151,
      "outputs": [
        {
          "output_type": "stream",
          "name": "stdout",
          "text": [
            "total du chiffre d'affaire en ligne : 70568.6 €\n"
          ]
        }
      ]
    },
    {
      "cell_type": "markdown",
      "source": [
        "le Chiffre d'affaire par produit est contenu dans la colonne chiffre_affaire pour chaque ligne."
      ],
      "metadata": {
        "id": "skrv-kasSuzV"
      }
    },
    {
      "cell_type": "markdown",
      "source": [
        "chiffre d'affaire par produit classé par CA décroissant"
      ],
      "metadata": {
        "id": "p6dsProRS05I"
      }
    },
    {
      "cell_type": "code",
      "source": [
        "total_base.sort_values(\"chiffre_affaire\", ascending=False, inplace=True)\n",
        "total_base.head()"
      ],
      "metadata": {
        "colab": {
          "base_uri": "https://localhost:8080/",
          "height": 204
        },
        "id": "50appVY2SoQ-",
        "outputId": "2c34d98c-d507-4707-ac6b-e8ac01fa091e"
      },
      "execution_count": 152,
      "outputs": [
        {
          "output_type": "execute_result",
          "data": {
            "text/plain": [
              "     product_id  onsale_web  price  stock_quantity id_web  total_sales  \\\n",
              "194        4334           1   49.0               0   7818         96.0   \n",
              "71         4144           1   49.0              11   1662         87.0   \n",
              "218        4402           1  176.0               8   3510         13.0   \n",
              "70         4142           1   53.0               8  11641         30.0   \n",
              "69         4141           1   39.0               1    304         40.0   \n",
              "\n",
              "                              product_name post_type  valeur_stock  \\\n",
              "194  champagne-gosset-grand-blanc-de-blanc   product           0.0   \n",
              "71             champagne-gosset-grand-rose   product         539.0   \n",
              "218                   cognac-frapin-vip-xo   product        1408.0   \n",
              "70   champagne-gosset-grand-millesime-2006   product         424.0   \n",
              "69         gosset-champagne-grande-reserve   product          39.0   \n",
              "\n",
              "     chiffre_affaire  stockSupCA  sold  \n",
              "194           4704.0       False  True  \n",
              "71            4263.0       False  True  \n",
              "218           2288.0       False  True  \n",
              "70            1590.0       False  True  \n",
              "69            1560.0       False  True  "
            ],
            "text/html": [
              "\n",
              "  <div id=\"df-4d336edb-4379-4b9f-a21b-a36a157a3604\">\n",
              "    <div class=\"colab-df-container\">\n",
              "      <div>\n",
              "<style scoped>\n",
              "    .dataframe tbody tr th:only-of-type {\n",
              "        vertical-align: middle;\n",
              "    }\n",
              "\n",
              "    .dataframe tbody tr th {\n",
              "        vertical-align: top;\n",
              "    }\n",
              "\n",
              "    .dataframe thead th {\n",
              "        text-align: right;\n",
              "    }\n",
              "</style>\n",
              "<table border=\"1\" class=\"dataframe\">\n",
              "  <thead>\n",
              "    <tr style=\"text-align: right;\">\n",
              "      <th></th>\n",
              "      <th>product_id</th>\n",
              "      <th>onsale_web</th>\n",
              "      <th>price</th>\n",
              "      <th>stock_quantity</th>\n",
              "      <th>id_web</th>\n",
              "      <th>total_sales</th>\n",
              "      <th>product_name</th>\n",
              "      <th>post_type</th>\n",
              "      <th>valeur_stock</th>\n",
              "      <th>chiffre_affaire</th>\n",
              "      <th>stockSupCA</th>\n",
              "      <th>sold</th>\n",
              "    </tr>\n",
              "  </thead>\n",
              "  <tbody>\n",
              "    <tr>\n",
              "      <th>194</th>\n",
              "      <td>4334</td>\n",
              "      <td>1</td>\n",
              "      <td>49.0</td>\n",
              "      <td>0</td>\n",
              "      <td>7818</td>\n",
              "      <td>96.0</td>\n",
              "      <td>champagne-gosset-grand-blanc-de-blanc</td>\n",
              "      <td>product</td>\n",
              "      <td>0.0</td>\n",
              "      <td>4704.0</td>\n",
              "      <td>False</td>\n",
              "      <td>True</td>\n",
              "    </tr>\n",
              "    <tr>\n",
              "      <th>71</th>\n",
              "      <td>4144</td>\n",
              "      <td>1</td>\n",
              "      <td>49.0</td>\n",
              "      <td>11</td>\n",
              "      <td>1662</td>\n",
              "      <td>87.0</td>\n",
              "      <td>champagne-gosset-grand-rose</td>\n",
              "      <td>product</td>\n",
              "      <td>539.0</td>\n",
              "      <td>4263.0</td>\n",
              "      <td>False</td>\n",
              "      <td>True</td>\n",
              "    </tr>\n",
              "    <tr>\n",
              "      <th>218</th>\n",
              "      <td>4402</td>\n",
              "      <td>1</td>\n",
              "      <td>176.0</td>\n",
              "      <td>8</td>\n",
              "      <td>3510</td>\n",
              "      <td>13.0</td>\n",
              "      <td>cognac-frapin-vip-xo</td>\n",
              "      <td>product</td>\n",
              "      <td>1408.0</td>\n",
              "      <td>2288.0</td>\n",
              "      <td>False</td>\n",
              "      <td>True</td>\n",
              "    </tr>\n",
              "    <tr>\n",
              "      <th>70</th>\n",
              "      <td>4142</td>\n",
              "      <td>1</td>\n",
              "      <td>53.0</td>\n",
              "      <td>8</td>\n",
              "      <td>11641</td>\n",
              "      <td>30.0</td>\n",
              "      <td>champagne-gosset-grand-millesime-2006</td>\n",
              "      <td>product</td>\n",
              "      <td>424.0</td>\n",
              "      <td>1590.0</td>\n",
              "      <td>False</td>\n",
              "      <td>True</td>\n",
              "    </tr>\n",
              "    <tr>\n",
              "      <th>69</th>\n",
              "      <td>4141</td>\n",
              "      <td>1</td>\n",
              "      <td>39.0</td>\n",
              "      <td>1</td>\n",
              "      <td>304</td>\n",
              "      <td>40.0</td>\n",
              "      <td>gosset-champagne-grande-reserve</td>\n",
              "      <td>product</td>\n",
              "      <td>39.0</td>\n",
              "      <td>1560.0</td>\n",
              "      <td>False</td>\n",
              "      <td>True</td>\n",
              "    </tr>\n",
              "  </tbody>\n",
              "</table>\n",
              "</div>\n",
              "      <button class=\"colab-df-convert\" onclick=\"convertToInteractive('df-4d336edb-4379-4b9f-a21b-a36a157a3604')\"\n",
              "              title=\"Convert this dataframe to an interactive table.\"\n",
              "              style=\"display:none;\">\n",
              "        \n",
              "  <svg xmlns=\"http://www.w3.org/2000/svg\" height=\"24px\"viewBox=\"0 0 24 24\"\n",
              "       width=\"24px\">\n",
              "    <path d=\"M0 0h24v24H0V0z\" fill=\"none\"/>\n",
              "    <path d=\"M18.56 5.44l.94 2.06.94-2.06 2.06-.94-2.06-.94-.94-2.06-.94 2.06-2.06.94zm-11 1L8.5 8.5l.94-2.06 2.06-.94-2.06-.94L8.5 2.5l-.94 2.06-2.06.94zm10 10l.94 2.06.94-2.06 2.06-.94-2.06-.94-.94-2.06-.94 2.06-2.06.94z\"/><path d=\"M17.41 7.96l-1.37-1.37c-.4-.4-.92-.59-1.43-.59-.52 0-1.04.2-1.43.59L10.3 9.45l-7.72 7.72c-.78.78-.78 2.05 0 2.83L4 21.41c.39.39.9.59 1.41.59.51 0 1.02-.2 1.41-.59l7.78-7.78 2.81-2.81c.8-.78.8-2.07 0-2.86zM5.41 20L4 18.59l7.72-7.72 1.47 1.35L5.41 20z\"/>\n",
              "  </svg>\n",
              "      </button>\n",
              "      \n",
              "  <style>\n",
              "    .colab-df-container {\n",
              "      display:flex;\n",
              "      flex-wrap:wrap;\n",
              "      gap: 12px;\n",
              "    }\n",
              "\n",
              "    .colab-df-convert {\n",
              "      background-color: #E8F0FE;\n",
              "      border: none;\n",
              "      border-radius: 50%;\n",
              "      cursor: pointer;\n",
              "      display: none;\n",
              "      fill: #1967D2;\n",
              "      height: 32px;\n",
              "      padding: 0 0 0 0;\n",
              "      width: 32px;\n",
              "    }\n",
              "\n",
              "    .colab-df-convert:hover {\n",
              "      background-color: #E2EBFA;\n",
              "      box-shadow: 0px 1px 2px rgba(60, 64, 67, 0.3), 0px 1px 3px 1px rgba(60, 64, 67, 0.15);\n",
              "      fill: #174EA6;\n",
              "    }\n",
              "\n",
              "    [theme=dark] .colab-df-convert {\n",
              "      background-color: #3B4455;\n",
              "      fill: #D2E3FC;\n",
              "    }\n",
              "\n",
              "    [theme=dark] .colab-df-convert:hover {\n",
              "      background-color: #434B5C;\n",
              "      box-shadow: 0px 1px 3px 1px rgba(0, 0, 0, 0.15);\n",
              "      filter: drop-shadow(0px 1px 2px rgba(0, 0, 0, 0.3));\n",
              "      fill: #FFFFFF;\n",
              "    }\n",
              "  </style>\n",
              "\n",
              "      <script>\n",
              "        const buttonEl =\n",
              "          document.querySelector('#df-4d336edb-4379-4b9f-a21b-a36a157a3604 button.colab-df-convert');\n",
              "        buttonEl.style.display =\n",
              "          google.colab.kernel.accessAllowed ? 'block' : 'none';\n",
              "\n",
              "        async function convertToInteractive(key) {\n",
              "          const element = document.querySelector('#df-4d336edb-4379-4b9f-a21b-a36a157a3604');\n",
              "          const dataTable =\n",
              "            await google.colab.kernel.invokeFunction('convertToInteractive',\n",
              "                                                     [key], {});\n",
              "          if (!dataTable) return;\n",
              "\n",
              "          const docLinkHtml = 'Like what you see? Visit the ' +\n",
              "            '<a target=\"_blank\" href=https://colab.research.google.com/notebooks/data_table.ipynb>data table notebook</a>'\n",
              "            + ' to learn more about interactive tables.';\n",
              "          element.innerHTML = '';\n",
              "          dataTable['output_type'] = 'display_data';\n",
              "          await google.colab.output.renderOutput(dataTable, element);\n",
              "          const docLink = document.createElement('div');\n",
              "          docLink.innerHTML = docLinkHtml;\n",
              "          element.appendChild(docLink);\n",
              "        }\n",
              "      </script>\n",
              "    </div>\n",
              "  </div>\n",
              "  "
            ]
          },
          "metadata": {},
          "execution_count": 152
        }
      ]
    },
    {
      "cell_type": "markdown",
      "source": [
        "statistiques rapides du chiffre d'affaire par produit"
      ],
      "metadata": {
        "id": "LnKtMOY0TrLr"
      }
    },
    {
      "cell_type": "code",
      "source": [
        "ca_positif = total_base[total_base.sold == True]\n",
        "ca_positif.chiffre_affaire.describe()"
      ],
      "metadata": {
        "colab": {
          "base_uri": "https://localhost:8080/"
        },
        "id": "JzIE9a-SS3qK",
        "outputId": "28c0ba63-296a-4307-aa15-0c8da2644f4e"
      },
      "execution_count": 153,
      "outputs": [
        {
          "output_type": "execute_result",
          "data": {
            "text/plain": [
              "count     385.000000\n",
              "mean      183.295065\n",
              "std       400.324073\n",
              "min         6.500000\n",
              "25%        38.600000\n",
              "50%        81.600000\n",
              "75%       164.400000\n",
              "max      4704.000000\n",
              "Name: chiffre_affaire, dtype: float64"
            ]
          },
          "metadata": {},
          "execution_count": 153
        }
      ]
    },
    {
      "cell_type": "markdown",
      "source": [
        "La boutique en ligne à commercialisé  385 références sur 714.\n",
        "\n",
        "La meilleure vente apporte 4704€ de CA, la moins bonne 6,50€. Le CA produit moyen est de 183.29€"
      ],
      "metadata": {
        "id": "gtB4TbDdT56s"
      }
    },
    {
      "cell_type": "markdown",
      "source": [
        "# Recherche des valeurs anormales"
      ],
      "metadata": {
        "id": "YyMZlqECV-_w"
      }
    },
    {
      "cell_type": "markdown",
      "source": [
        "Récupération des statistiques de la colonne price"
      ],
      "metadata": {
        "id": "KxtJmdl6WDr2"
      }
    },
    {
      "cell_type": "code",
      "source": [
        "total_base.price.describe(include=\"all\")"
      ],
      "metadata": {
        "colab": {
          "base_uri": "https://localhost:8080/"
        },
        "id": "5YOQFmFMTuDF",
        "outputId": "dc1afff4-5b5a-45cd-ce29-93dbe59dea0e"
      },
      "execution_count": 154,
      "outputs": [
        {
          "output_type": "execute_result",
          "data": {
            "text/plain": [
              "count    714.000000\n",
              "mean      32.493137\n",
              "std       27.810525\n",
              "min        5.200000\n",
              "25%       14.100000\n",
              "50%       23.550000\n",
              "75%       42.175000\n",
              "max      225.000000\n",
              "Name: price, dtype: float64"
            ]
          },
          "metadata": {},
          "execution_count": 154
        }
      ]
    },
    {
      "cell_type": "code",
      "source": [
        "data = total_base.price"
      ],
      "metadata": {
        "id": "ltQ6wKgKWdZS"
      },
      "execution_count": 155,
      "outputs": []
    },
    {
      "cell_type": "code",
      "source": [
        "q1 = np.percentile(data, 25)\n",
        "q3 = np.percentile(data, 75)\n",
        "interquartile = q3-q1\n",
        "print(f'intervale interquartile : {interquartile}')"
      ],
      "metadata": {
        "colab": {
          "base_uri": "https://localhost:8080/"
        },
        "id": "jxJJMbFYaSBc",
        "outputId": "10adac28-8ed1-4f47-f124-fa50460ac1ba"
      },
      "execution_count": 156,
      "outputs": [
        {
          "output_type": "stream",
          "name": "stdout",
          "text": [
            "intervale interquartile : 28.075000000000003\n"
          ]
        }
      ]
    },
    {
      "cell_type": "markdown",
      "source": [
        "Calcul minimum statistique \n"
      ],
      "metadata": {
        "id": "BYdyFXCc4Qem"
      }
    },
    {
      "cell_type": "code",
      "source": [
        "min_stat= q1 - (interquartile*1.5)\n",
        "print(f'minimum statistique :{min_stat}') "
      ],
      "metadata": {
        "id": "zsmbTK9K4Uhz",
        "colab": {
          "base_uri": "https://localhost:8080/"
        },
        "outputId": "a30e3d33-ea6a-4ea0-b874-abb1f0372db5"
      },
      "execution_count": 157,
      "outputs": [
        {
          "output_type": "stream",
          "name": "stdout",
          "text": [
            "minimum statistique :-28.012500000000003\n"
          ]
        }
      ]
    },
    {
      "cell_type": "code",
      "source": [
        "max_stat=q3+(interquartile*1.5)\n",
        "print(f'maximum statistique:{max_stat}')"
      ],
      "metadata": {
        "colab": {
          "base_uri": "https://localhost:8080/"
        },
        "id": "E6rYAdRV61IP",
        "outputId": "bd0ab205-30b9-4ca9-bcf5-7e1ea455f40a"
      },
      "execution_count": 158,
      "outputs": [
        {
          "output_type": "stream",
          "name": "stdout",
          "text": [
            "maximum statistique:84.28750000000001\n"
          ]
        }
      ]
    },
    {
      "cell_type": "markdown",
      "source": [
        "Recherche de valeurs dont le prix est supérieur au maximum statistique "
      ],
      "metadata": {
        "id": "H6q7Hh2p8Dmi"
      }
    },
    {
      "cell_type": "code",
      "source": [
        "total_base_High = total_base[total_base['price'] > max_stat]\n",
        "print(f'nombre de valeurs ayant des prix supérieurs au max statistique:{total_base_High.shape[0]}')"
      ],
      "metadata": {
        "colab": {
          "base_uri": "https://localhost:8080/"
        },
        "id": "wIkqYtXv8OGc",
        "outputId": "dbd37fb8-5e7c-4aaf-b3bb-5ce0c04e8ca3"
      },
      "execution_count": 159,
      "outputs": [
        {
          "output_type": "stream",
          "name": "stdout",
          "text": [
            "nombre de valeurs ayant des prix supérieurs au max statistique:32\n"
          ]
        }
      ]
    },
    {
      "cell_type": "markdown",
      "source": [
        "Représentation graphique de la boite a moustache "
      ],
      "metadata": {
        "id": "IsVOJ295Dzl0"
      }
    },
    {
      "cell_type": "code",
      "source": [
        "figu = px.box(data, x=\"price\", \n",
        "points=\"all\",\n",
        "title=\" boite à moustache répartition des prix produit\")\n",
        "figu.show()"
      ],
      "metadata": {
        "colab": {
          "base_uri": "https://localhost:8080/",
          "height": 542
        },
        "id": "DyAJtU4HD3aV",
        "outputId": "13f8b10c-5da5-4851-a89f-067f77ecdb16"
      },
      "execution_count": 160,
      "outputs": [
        {
          "output_type": "display_data",
          "data": {
            "text/html": [
              "<html>\n",
              "<head><meta charset=\"utf-8\" /></head>\n",
              "<body>\n",
              "    <div>            <script src=\"https://cdnjs.cloudflare.com/ajax/libs/mathjax/2.7.5/MathJax.js?config=TeX-AMS-MML_SVG\"></script><script type=\"text/javascript\">if (window.MathJax) {MathJax.Hub.Config({SVG: {font: \"STIX-Web\"}});}</script>                <script type=\"text/javascript\">window.PlotlyConfig = {MathJaxConfig: 'local'};</script>\n",
              "        <script src=\"https://cdn.plot.ly/plotly-2.8.3.min.js\"></script>                <div id=\"e29f9cbb-d9dd-4b2a-9ac3-89e1de5d9c89\" class=\"plotly-graph-div\" style=\"height:525px; width:100%;\"></div>            <script type=\"text/javascript\">                                    window.PLOTLYENV=window.PLOTLYENV || {};                                    if (document.getElementById(\"e29f9cbb-d9dd-4b2a-9ac3-89e1de5d9c89\")) {                    Plotly.newPlot(                        \"e29f9cbb-d9dd-4b2a-9ac3-89e1de5d9c89\",                        [{\"alignmentgroup\":\"True\",\"boxpoints\":\"all\",\"hovertemplate\":\"price=%{x}<extra></extra>\",\"legendgroup\":\"\",\"marker\":{\"color\":\"#636efa\"},\"name\":\"\",\"notched\":false,\"offsetgroup\":\"\",\"orientation\":\"h\",\"showlegend\":false,\"x\":[49.0,49.0,176.0,53.0,39.0,126.5,225.0,29.0,25.2,16.6,44.3,43.9,27.9,59.9,25.2,37.2,48.5,71.6,69.8,137.0,33.2,51.6,42.6,19.5,191.3,13.3,16.8,24.5,22.8,80.0,65.9,49.5,44.0,22.0,20.8,10.9,21.7,21.0,22.0,26.2,41.0,8.6,9.3,22.8,22.5,12.9,40.0,23.2,23.0,135.0,5.8,32.6,14.4,31.6,25.0,62.4,8.5,5.7,24.4,34.8,15.9,79.5,13.2,58.3,46.0,115.0,28.5,18.4,31.5,16.9,31.2,18.2,108.5,31.0,53.2,19.0,25.9,20.6,33.7,16.3,11.5,12.8,21.2,12.5,7.1,60.0,14.9,14.8,9.8,57.0,42.2,24.0,42.0,24.0,55.0,41.2,54.8,13.7,27.3,23.4,14.6,32.1,26.7,22.8,26.5,11.3,52.4,8.7,39.0,25.9,12.9,25.7,8.5,16.9,7.6,16.5,24.4,24.2,13.0,28.4,7.8,23.4,5.8,11.6,19.8,34.4,7.1,19.2,19.0,26.6,19.0,21.8,43.5,9.8,12.7,25.3,25.0,61.6,20.5,13.6,20.35,11.1,7.6,13.5,8.6,12.0,9.9,59.4,23.6,9.7,19.2,23.0,14.1,28.1,9.3,27.3,10.8,13.5,27.0,15.3,11.9,11.9,35.2,52.4,104.0,25.7,17.0,33.4,11.0,33.0,49.5,32.8,10.8,8.7,8.7,23.7,30.8,46.0,15.2,6.5,45.0,17.8,43.9,17.5,29.0,29.0,85.6,7.1,28.1,12.0,27.9,27.8,20.4,39.8,19.8,38.6,38.6,15.4,38.4,9.5,12.6,12.6,9.4,14.9,24.8,5.7,12.1,11.9,7.0,17.3,68.3,13.5,16.45,16.4,21.8,9.3,16.1,12.7,31.7,63.4,62.5,15.5,30.5,8.7,12.1,60.4,20.1,9.9,9.9,29.5,59.0,59.0,57.6,19.2,14.05,56.0,55.4,9.1,18.2,27.2,18.1,52.7,17.5,26.0,25.9,17.1,12.7,12.7,12.6,50.1,16.7,50.0,49.9,49.5,49.0,16.3,16.3,24.3,48.5,48.4,6.8,15.8,5.8,7.7,15.4,9.0,14.9,44.5,22.2,44.0,14.5,14.5,14.4,14.3,14.1,8.4,41.8,41.8,13.8,20.5,10.1,40.2,13.3,9.9,19.8,7.9,39.2,39.0,38.6,38.6,19.0,19.0,37.7,12.3,12.3,12.0,9.0,36.0,11.9,8.9,17.8,35.6,35.5,17.4,17.2,5.7,6.8,17.0,11.3,6.7,16.7,16.4,8.2,10.8,32.0,10.6,31.5,10.2,29.7,9.8,9.7,14.4,9.6,14.0,28.0,9.3,9.3,27.7,26.7,13.1,6.5,25.0,24.6,12.2,24.2,23.2,22.4,11.1,11.1,22.1,21.6,21.5,20.8,20.2,19.3,19.0,17.9,17.1,16.7,16.6,16.6,16.5,16.3,15.8,15.5,15.4,15.3,15.2,15.2,14.3,14.1,7.0,13.7,13.7,13.4,12.8,12.8,6.3,12.6,11.1,10.7,10.7,10.4,10.1,9.9,9.9,9.5,9.3,9.2,9.1,8.9,8.9,7.8,7.5,6.5,10.3,25.0,31.7,18.0,16.9,29.4,35.6,13.7,29.9,17.5,124.8,69.0,175.0,56.4,27.5,19.5,71.3,10.3,38.4,73.3,33.6,42.1,57.0,44.6,54.8,71.3,13.5,5.7,29.8,105.6,5.2,10.6,46.0,62.4,74.8,33.2,40.7,36.9,13.4,71.5,24.5,13.5,38.5,51.0,59.6,71.7,48.5,42.2,69.0,116.4,20.2,32.8,24.4,41.8,44.0,29.2,72.0,28.4,22.4,27.9,40.5,78.0,10.4,45.9,20.4,19.0,26.4,23.5,121.0,115.0,99.0,121.0,33.2,56.3,21.7,46.5,19.3,63.5,63.5,57.6,48.5,16.9,24.0,17.9,46.5,23.8,13.5,46.5,24.0,40.2,42.0,17.2,21.8,50.5,12.5,23.0,35.6,24.7,18.25,50.4,30.0,12.7,15.4,8.7,17.2,74.5,32.2,59.9,114.0,122.0,93.0,36.0,57.0,47.2,17.7,19.8,18.8,27.3,35.1,83.7,78.0,34.7,27.5,68.1,44.0,59.0,59.0,62.0,27.5,59.8,57.0,49.5,49.5,77.0,39.0,79.5,59.0,83.0,10.9,8.1,30.0,39.1,19.0,11.6,18.9,17.6,157.0,28.5,67.2,39.6,43.0,43.0,40.2,33.4,36.2,49.0,62.4,41.0,50.0,76.8,52.9,109.6,52.4,59.0,30.6,67.5,57.0,13.1,11.8,13.4,32.2,26.5,12.9,16.6,10.2,17.0,88.4,23.0,100.0,35.0,15.8,15.8,12.8,22.8,13.7,23.2,37.0,77.4,22.9,14.7,77.8,60.0,19.5,18.3,32.7,34.3,46.0,20.8,29.8,29.5,15.8,58.8,31.7,24.4,26.9,59.6,28.0,28.0,9.6,29.9,17.1,26.5,79.8,37.5,38.0,38.0,5.8,21.4,24.0,13.5,11.6,18.5,12.0,69.0,48.8,20.8,16.4,112.0,22.8,18.0,11.1,19.0,65.0,59.9,67.0,52.6,62.1,86.8,45.0,28.8,19.8,55.6,105.0,105.0,48.7,48.7,64.9,217.5,78.0,78.0,19.5,16.1,26.5,18.2,92.0,58.0,58.0,38.0,57.7,36.3,34.3,48.8,61.6,12.0,26.5,35.3,43.5,17.9,11.5,7.2,16.2,16.3,24.0,17.1,12.7,10.7,78.0,18.5,21.0,18.6,7.4,27.9,11.9,14.5,9.7,7.4,16.8,14.3,23.4,18.2,11.1,16.9,44.0,12.8,30.1,13.2,29.8,12.9,10.7,19.8,17.8,21.9,24.3,13.9,49.5,46.0,12.9,12.5,18.4,27.8,7.9,12.8,28.0,25.9,22.9,102.3,41.0,29.5,25.3,27.9,18.7,34.3,41.6,18.7,13.6,11.1,12.1,28.5,16.3],\"x0\":\" \",\"xaxis\":\"x\",\"y0\":\" \",\"yaxis\":\"y\",\"type\":\"box\"}],                        {\"template\":{\"data\":{\"bar\":[{\"error_x\":{\"color\":\"#2a3f5f\"},\"error_y\":{\"color\":\"#2a3f5f\"},\"marker\":{\"line\":{\"color\":\"#E5ECF6\",\"width\":0.5},\"pattern\":{\"fillmode\":\"overlay\",\"size\":10,\"solidity\":0.2}},\"type\":\"bar\"}],\"barpolar\":[{\"marker\":{\"line\":{\"color\":\"#E5ECF6\",\"width\":0.5},\"pattern\":{\"fillmode\":\"overlay\",\"size\":10,\"solidity\":0.2}},\"type\":\"barpolar\"}],\"carpet\":[{\"aaxis\":{\"endlinecolor\":\"#2a3f5f\",\"gridcolor\":\"white\",\"linecolor\":\"white\",\"minorgridcolor\":\"white\",\"startlinecolor\":\"#2a3f5f\"},\"baxis\":{\"endlinecolor\":\"#2a3f5f\",\"gridcolor\":\"white\",\"linecolor\":\"white\",\"minorgridcolor\":\"white\",\"startlinecolor\":\"#2a3f5f\"},\"type\":\"carpet\"}],\"choropleth\":[{\"colorbar\":{\"outlinewidth\":0,\"ticks\":\"\"},\"type\":\"choropleth\"}],\"contour\":[{\"colorbar\":{\"outlinewidth\":0,\"ticks\":\"\"},\"colorscale\":[[0.0,\"#0d0887\"],[0.1111111111111111,\"#46039f\"],[0.2222222222222222,\"#7201a8\"],[0.3333333333333333,\"#9c179e\"],[0.4444444444444444,\"#bd3786\"],[0.5555555555555556,\"#d8576b\"],[0.6666666666666666,\"#ed7953\"],[0.7777777777777778,\"#fb9f3a\"],[0.8888888888888888,\"#fdca26\"],[1.0,\"#f0f921\"]],\"type\":\"contour\"}],\"contourcarpet\":[{\"colorbar\":{\"outlinewidth\":0,\"ticks\":\"\"},\"type\":\"contourcarpet\"}],\"heatmap\":[{\"colorbar\":{\"outlinewidth\":0,\"ticks\":\"\"},\"colorscale\":[[0.0,\"#0d0887\"],[0.1111111111111111,\"#46039f\"],[0.2222222222222222,\"#7201a8\"],[0.3333333333333333,\"#9c179e\"],[0.4444444444444444,\"#bd3786\"],[0.5555555555555556,\"#d8576b\"],[0.6666666666666666,\"#ed7953\"],[0.7777777777777778,\"#fb9f3a\"],[0.8888888888888888,\"#fdca26\"],[1.0,\"#f0f921\"]],\"type\":\"heatmap\"}],\"heatmapgl\":[{\"colorbar\":{\"outlinewidth\":0,\"ticks\":\"\"},\"colorscale\":[[0.0,\"#0d0887\"],[0.1111111111111111,\"#46039f\"],[0.2222222222222222,\"#7201a8\"],[0.3333333333333333,\"#9c179e\"],[0.4444444444444444,\"#bd3786\"],[0.5555555555555556,\"#d8576b\"],[0.6666666666666666,\"#ed7953\"],[0.7777777777777778,\"#fb9f3a\"],[0.8888888888888888,\"#fdca26\"],[1.0,\"#f0f921\"]],\"type\":\"heatmapgl\"}],\"histogram\":[{\"marker\":{\"pattern\":{\"fillmode\":\"overlay\",\"size\":10,\"solidity\":0.2}},\"type\":\"histogram\"}],\"histogram2d\":[{\"colorbar\":{\"outlinewidth\":0,\"ticks\":\"\"},\"colorscale\":[[0.0,\"#0d0887\"],[0.1111111111111111,\"#46039f\"],[0.2222222222222222,\"#7201a8\"],[0.3333333333333333,\"#9c179e\"],[0.4444444444444444,\"#bd3786\"],[0.5555555555555556,\"#d8576b\"],[0.6666666666666666,\"#ed7953\"],[0.7777777777777778,\"#fb9f3a\"],[0.8888888888888888,\"#fdca26\"],[1.0,\"#f0f921\"]],\"type\":\"histogram2d\"}],\"histogram2dcontour\":[{\"colorbar\":{\"outlinewidth\":0,\"ticks\":\"\"},\"colorscale\":[[0.0,\"#0d0887\"],[0.1111111111111111,\"#46039f\"],[0.2222222222222222,\"#7201a8\"],[0.3333333333333333,\"#9c179e\"],[0.4444444444444444,\"#bd3786\"],[0.5555555555555556,\"#d8576b\"],[0.6666666666666666,\"#ed7953\"],[0.7777777777777778,\"#fb9f3a\"],[0.8888888888888888,\"#fdca26\"],[1.0,\"#f0f921\"]],\"type\":\"histogram2dcontour\"}],\"mesh3d\":[{\"colorbar\":{\"outlinewidth\":0,\"ticks\":\"\"},\"type\":\"mesh3d\"}],\"parcoords\":[{\"line\":{\"colorbar\":{\"outlinewidth\":0,\"ticks\":\"\"}},\"type\":\"parcoords\"}],\"pie\":[{\"automargin\":true,\"type\":\"pie\"}],\"scatter\":[{\"marker\":{\"colorbar\":{\"outlinewidth\":0,\"ticks\":\"\"}},\"type\":\"scatter\"}],\"scatter3d\":[{\"line\":{\"colorbar\":{\"outlinewidth\":0,\"ticks\":\"\"}},\"marker\":{\"colorbar\":{\"outlinewidth\":0,\"ticks\":\"\"}},\"type\":\"scatter3d\"}],\"scattercarpet\":[{\"marker\":{\"colorbar\":{\"outlinewidth\":0,\"ticks\":\"\"}},\"type\":\"scattercarpet\"}],\"scattergeo\":[{\"marker\":{\"colorbar\":{\"outlinewidth\":0,\"ticks\":\"\"}},\"type\":\"scattergeo\"}],\"scattergl\":[{\"marker\":{\"colorbar\":{\"outlinewidth\":0,\"ticks\":\"\"}},\"type\":\"scattergl\"}],\"scattermapbox\":[{\"marker\":{\"colorbar\":{\"outlinewidth\":0,\"ticks\":\"\"}},\"type\":\"scattermapbox\"}],\"scatterpolar\":[{\"marker\":{\"colorbar\":{\"outlinewidth\":0,\"ticks\":\"\"}},\"type\":\"scatterpolar\"}],\"scatterpolargl\":[{\"marker\":{\"colorbar\":{\"outlinewidth\":0,\"ticks\":\"\"}},\"type\":\"scatterpolargl\"}],\"scatterternary\":[{\"marker\":{\"colorbar\":{\"outlinewidth\":0,\"ticks\":\"\"}},\"type\":\"scatterternary\"}],\"surface\":[{\"colorbar\":{\"outlinewidth\":0,\"ticks\":\"\"},\"colorscale\":[[0.0,\"#0d0887\"],[0.1111111111111111,\"#46039f\"],[0.2222222222222222,\"#7201a8\"],[0.3333333333333333,\"#9c179e\"],[0.4444444444444444,\"#bd3786\"],[0.5555555555555556,\"#d8576b\"],[0.6666666666666666,\"#ed7953\"],[0.7777777777777778,\"#fb9f3a\"],[0.8888888888888888,\"#fdca26\"],[1.0,\"#f0f921\"]],\"type\":\"surface\"}],\"table\":[{\"cells\":{\"fill\":{\"color\":\"#EBF0F8\"},\"line\":{\"color\":\"white\"}},\"header\":{\"fill\":{\"color\":\"#C8D4E3\"},\"line\":{\"color\":\"white\"}},\"type\":\"table\"}]},\"layout\":{\"annotationdefaults\":{\"arrowcolor\":\"#2a3f5f\",\"arrowhead\":0,\"arrowwidth\":1},\"autotypenumbers\":\"strict\",\"coloraxis\":{\"colorbar\":{\"outlinewidth\":0,\"ticks\":\"\"}},\"colorscale\":{\"diverging\":[[0,\"#8e0152\"],[0.1,\"#c51b7d\"],[0.2,\"#de77ae\"],[0.3,\"#f1b6da\"],[0.4,\"#fde0ef\"],[0.5,\"#f7f7f7\"],[0.6,\"#e6f5d0\"],[0.7,\"#b8e186\"],[0.8,\"#7fbc41\"],[0.9,\"#4d9221\"],[1,\"#276419\"]],\"sequential\":[[0.0,\"#0d0887\"],[0.1111111111111111,\"#46039f\"],[0.2222222222222222,\"#7201a8\"],[0.3333333333333333,\"#9c179e\"],[0.4444444444444444,\"#bd3786\"],[0.5555555555555556,\"#d8576b\"],[0.6666666666666666,\"#ed7953\"],[0.7777777777777778,\"#fb9f3a\"],[0.8888888888888888,\"#fdca26\"],[1.0,\"#f0f921\"]],\"sequentialminus\":[[0.0,\"#0d0887\"],[0.1111111111111111,\"#46039f\"],[0.2222222222222222,\"#7201a8\"],[0.3333333333333333,\"#9c179e\"],[0.4444444444444444,\"#bd3786\"],[0.5555555555555556,\"#d8576b\"],[0.6666666666666666,\"#ed7953\"],[0.7777777777777778,\"#fb9f3a\"],[0.8888888888888888,\"#fdca26\"],[1.0,\"#f0f921\"]]},\"colorway\":[\"#636efa\",\"#EF553B\",\"#00cc96\",\"#ab63fa\",\"#FFA15A\",\"#19d3f3\",\"#FF6692\",\"#B6E880\",\"#FF97FF\",\"#FECB52\"],\"font\":{\"color\":\"#2a3f5f\"},\"geo\":{\"bgcolor\":\"white\",\"lakecolor\":\"white\",\"landcolor\":\"#E5ECF6\",\"showlakes\":true,\"showland\":true,\"subunitcolor\":\"white\"},\"hoverlabel\":{\"align\":\"left\"},\"hovermode\":\"closest\",\"mapbox\":{\"style\":\"light\"},\"paper_bgcolor\":\"white\",\"plot_bgcolor\":\"#E5ECF6\",\"polar\":{\"angularaxis\":{\"gridcolor\":\"white\",\"linecolor\":\"white\",\"ticks\":\"\"},\"bgcolor\":\"#E5ECF6\",\"radialaxis\":{\"gridcolor\":\"white\",\"linecolor\":\"white\",\"ticks\":\"\"}},\"scene\":{\"xaxis\":{\"backgroundcolor\":\"#E5ECF6\",\"gridcolor\":\"white\",\"gridwidth\":2,\"linecolor\":\"white\",\"showbackground\":true,\"ticks\":\"\",\"zerolinecolor\":\"white\"},\"yaxis\":{\"backgroundcolor\":\"#E5ECF6\",\"gridcolor\":\"white\",\"gridwidth\":2,\"linecolor\":\"white\",\"showbackground\":true,\"ticks\":\"\",\"zerolinecolor\":\"white\"},\"zaxis\":{\"backgroundcolor\":\"#E5ECF6\",\"gridcolor\":\"white\",\"gridwidth\":2,\"linecolor\":\"white\",\"showbackground\":true,\"ticks\":\"\",\"zerolinecolor\":\"white\"}},\"shapedefaults\":{\"line\":{\"color\":\"#2a3f5f\"}},\"ternary\":{\"aaxis\":{\"gridcolor\":\"white\",\"linecolor\":\"white\",\"ticks\":\"\"},\"baxis\":{\"gridcolor\":\"white\",\"linecolor\":\"white\",\"ticks\":\"\"},\"bgcolor\":\"#E5ECF6\",\"caxis\":{\"gridcolor\":\"white\",\"linecolor\":\"white\",\"ticks\":\"\"}},\"title\":{\"x\":0.05},\"xaxis\":{\"automargin\":true,\"gridcolor\":\"white\",\"linecolor\":\"white\",\"ticks\":\"\",\"title\":{\"standoff\":15},\"zerolinecolor\":\"white\",\"zerolinewidth\":2},\"yaxis\":{\"automargin\":true,\"gridcolor\":\"white\",\"linecolor\":\"white\",\"ticks\":\"\",\"title\":{\"standoff\":15},\"zerolinecolor\":\"white\",\"zerolinewidth\":2}}},\"xaxis\":{\"anchor\":\"y\",\"domain\":[0.0,1.0],\"title\":{\"text\":\"price\"}},\"yaxis\":{\"anchor\":\"x\",\"domain\":[0.0,1.0]},\"legend\":{\"tracegroupgap\":0},\"title\":{\"text\":\" boite \\u00e0 moustache r\\u00e9partition des prix produit\"},\"boxmode\":\"group\"},                        {\"responsive\": true}                    ).then(function(){\n",
              "                            \n",
              "var gd = document.getElementById('e29f9cbb-d9dd-4b2a-9ac3-89e1de5d9c89');\n",
              "var x = new MutationObserver(function (mutations, observer) {{\n",
              "        var display = window.getComputedStyle(gd).display;\n",
              "        if (!display || display === 'none') {{\n",
              "            console.log([gd, 'removed!']);\n",
              "            Plotly.purge(gd);\n",
              "            observer.disconnect();\n",
              "        }}\n",
              "}});\n",
              "\n",
              "// Listen for the removal of the full notebook cells\n",
              "var notebookContainer = gd.closest('#notebook-container');\n",
              "if (notebookContainer) {{\n",
              "    x.observe(notebookContainer, {childList: true});\n",
              "}}\n",
              "\n",
              "// Listen for the clearing of the current output cell\n",
              "var outputEl = gd.closest('.output');\n",
              "if (outputEl) {{\n",
              "    x.observe(outputEl, {childList: true});\n",
              "}}\n",
              "\n",
              "                        })                };                            </script>        </div>\n",
              "</body>\n",
              "</html>"
            ]
          },
          "metadata": {}
        }
      ]
    },
    {
      "cell_type": "markdown",
      "source": [
        "Les outliers sont visibles sur la boite a moustache "
      ],
      "metadata": {
        "id": "MpVtGk9UTxbi"
      }
    },
    {
      "cell_type": "markdown",
      "source": [
        "On va afficher les valeurs à contrôler "
      ],
      "metadata": {
        "id": "DodkiP7cUg-M"
      }
    },
    {
      "cell_type": "code",
      "source": [
        "total_base_High.sort_values(\"price\", ascending=False, inplace=True)"
      ],
      "metadata": {
        "colab": {
          "base_uri": "https://localhost:8080/"
        },
        "id": "B9XOIr2JUMgx",
        "outputId": "cda1c562-1cb3-4a76-cd25-78a78580c0fe"
      },
      "execution_count": 161,
      "outputs": [
        {
          "output_type": "stream",
          "name": "stderr",
          "text": [
            "/usr/local/lib/python3.7/dist-packages/pandas/util/_decorators.py:311: SettingWithCopyWarning:\n",
            "\n",
            "\n",
            "A value is trying to be set on a copy of a slice from a DataFrame\n",
            "\n",
            "See the caveats in the documentation: https://pandas.pydata.org/pandas-docs/stable/user_guide/indexing.html#returning-a-view-versus-a-copy\n",
            "\n"
          ]
        }
      ]
    },
    {
      "cell_type": "markdown",
      "source": [
        "On va rechercher les ventes positives"
      ],
      "metadata": {
        "id": "m0RI5gt6VOx1"
      }
    },
    {
      "cell_type": "code",
      "source": [
        "total_base_highValue_isSold = total_base_High[(total_base_High.sold == 1)]\n",
        "print(total_base_highValue_isSold.shape[0])\n",
        "total_base_highValue_isSold.head(32)"
      ],
      "metadata": {
        "id": "hEt-kKDCUrrJ",
        "colab": {
          "base_uri": "https://localhost:8080/",
          "height": 376
        },
        "outputId": "e567b651-0b2a-4322-89d4-9e47de747e50"
      },
      "execution_count": 162,
      "outputs": [
        {
          "output_type": "stream",
          "name": "stdout",
          "text": [
            "10\n"
          ]
        },
        {
          "output_type": "execute_result",
          "data": {
            "text/plain": [
              "     product_id  onsale_web  price  stock_quantity id_web  total_sales  \\\n",
              "199        4352           1  225.0               0  15940          5.0   \n",
              "593        5892           1  191.3              10  14983          3.0   \n",
              "218        4402           1  176.0               8   3510         13.0   \n",
              "383        4904           1  137.0              13  14220          5.0   \n",
              "648        6126           1  135.0              10  14923          2.0   \n",
              "201        4355           1  126.5               2  12589         11.0   \n",
              "659        6212           1  115.0               2  13996          2.0   \n",
              "219        4404           1  108.5               2   3507          2.0   \n",
              "222        4407           1  104.0               6   3509          1.0   \n",
              "205        4359           1   85.6               0  13853          1.0   \n",
              "\n",
              "                                          product_name post_type  \\\n",
              "199     champagne-egly-ouriet-grand-cru-millesime-2008   product   \n",
              "593  coteaux-champenois-egly-ouriet-ambonnay-rouge-...   product   \n",
              "218                               cognac-frapin-vip-xo   product   \n",
              "383  domaine-des-croix-corton-charlemagne-grand-cru...   product   \n",
              "648             champagne-gosset-celebris-vintage-2007   product   \n",
              "201  champagne-egly-ouriet-grand-cru-brut-blanc-de-...   product   \n",
              "659  domaine-des-comtes-lafon-volnay-1er-cru-santen...   product   \n",
              "219                         cognac-frapin-fontpinot-xo   product   \n",
              "222                          cognac-frapin-cigar-blend   product   \n",
              "205  champagne-larmandier-bernier-grand-cru-vieille...   product   \n",
              "\n",
              "     valeur_stock  chiffre_affaire  stockSupCA  sold  \n",
              "199           0.0           1125.0       False  True  \n",
              "593        1913.0            573.9        True  True  \n",
              "218        1408.0           2288.0       False  True  \n",
              "383        1781.0            685.0        True  True  \n",
              "648        1350.0            270.0        True  True  \n",
              "201         253.0           1391.5       False  True  \n",
              "659         230.0            230.0       False  True  \n",
              "219         217.0            217.0       False  True  \n",
              "222         624.0            104.0        True  True  \n",
              "205           0.0             85.6       False  True  "
            ],
            "text/html": [
              "\n",
              "  <div id=\"df-8b2c5261-7b82-4232-a6f7-9bd1da4f056f\">\n",
              "    <div class=\"colab-df-container\">\n",
              "      <div>\n",
              "<style scoped>\n",
              "    .dataframe tbody tr th:only-of-type {\n",
              "        vertical-align: middle;\n",
              "    }\n",
              "\n",
              "    .dataframe tbody tr th {\n",
              "        vertical-align: top;\n",
              "    }\n",
              "\n",
              "    .dataframe thead th {\n",
              "        text-align: right;\n",
              "    }\n",
              "</style>\n",
              "<table border=\"1\" class=\"dataframe\">\n",
              "  <thead>\n",
              "    <tr style=\"text-align: right;\">\n",
              "      <th></th>\n",
              "      <th>product_id</th>\n",
              "      <th>onsale_web</th>\n",
              "      <th>price</th>\n",
              "      <th>stock_quantity</th>\n",
              "      <th>id_web</th>\n",
              "      <th>total_sales</th>\n",
              "      <th>product_name</th>\n",
              "      <th>post_type</th>\n",
              "      <th>valeur_stock</th>\n",
              "      <th>chiffre_affaire</th>\n",
              "      <th>stockSupCA</th>\n",
              "      <th>sold</th>\n",
              "    </tr>\n",
              "  </thead>\n",
              "  <tbody>\n",
              "    <tr>\n",
              "      <th>199</th>\n",
              "      <td>4352</td>\n",
              "      <td>1</td>\n",
              "      <td>225.0</td>\n",
              "      <td>0</td>\n",
              "      <td>15940</td>\n",
              "      <td>5.0</td>\n",
              "      <td>champagne-egly-ouriet-grand-cru-millesime-2008</td>\n",
              "      <td>product</td>\n",
              "      <td>0.0</td>\n",
              "      <td>1125.0</td>\n",
              "      <td>False</td>\n",
              "      <td>True</td>\n",
              "    </tr>\n",
              "    <tr>\n",
              "      <th>593</th>\n",
              "      <td>5892</td>\n",
              "      <td>1</td>\n",
              "      <td>191.3</td>\n",
              "      <td>10</td>\n",
              "      <td>14983</td>\n",
              "      <td>3.0</td>\n",
              "      <td>coteaux-champenois-egly-ouriet-ambonnay-rouge-...</td>\n",
              "      <td>product</td>\n",
              "      <td>1913.0</td>\n",
              "      <td>573.9</td>\n",
              "      <td>True</td>\n",
              "      <td>True</td>\n",
              "    </tr>\n",
              "    <tr>\n",
              "      <th>218</th>\n",
              "      <td>4402</td>\n",
              "      <td>1</td>\n",
              "      <td>176.0</td>\n",
              "      <td>8</td>\n",
              "      <td>3510</td>\n",
              "      <td>13.0</td>\n",
              "      <td>cognac-frapin-vip-xo</td>\n",
              "      <td>product</td>\n",
              "      <td>1408.0</td>\n",
              "      <td>2288.0</td>\n",
              "      <td>False</td>\n",
              "      <td>True</td>\n",
              "    </tr>\n",
              "    <tr>\n",
              "      <th>383</th>\n",
              "      <td>4904</td>\n",
              "      <td>1</td>\n",
              "      <td>137.0</td>\n",
              "      <td>13</td>\n",
              "      <td>14220</td>\n",
              "      <td>5.0</td>\n",
              "      <td>domaine-des-croix-corton-charlemagne-grand-cru...</td>\n",
              "      <td>product</td>\n",
              "      <td>1781.0</td>\n",
              "      <td>685.0</td>\n",
              "      <td>True</td>\n",
              "      <td>True</td>\n",
              "    </tr>\n",
              "    <tr>\n",
              "      <th>648</th>\n",
              "      <td>6126</td>\n",
              "      <td>1</td>\n",
              "      <td>135.0</td>\n",
              "      <td>10</td>\n",
              "      <td>14923</td>\n",
              "      <td>2.0</td>\n",
              "      <td>champagne-gosset-celebris-vintage-2007</td>\n",
              "      <td>product</td>\n",
              "      <td>1350.0</td>\n",
              "      <td>270.0</td>\n",
              "      <td>True</td>\n",
              "      <td>True</td>\n",
              "    </tr>\n",
              "    <tr>\n",
              "      <th>201</th>\n",
              "      <td>4355</td>\n",
              "      <td>1</td>\n",
              "      <td>126.5</td>\n",
              "      <td>2</td>\n",
              "      <td>12589</td>\n",
              "      <td>11.0</td>\n",
              "      <td>champagne-egly-ouriet-grand-cru-brut-blanc-de-...</td>\n",
              "      <td>product</td>\n",
              "      <td>253.0</td>\n",
              "      <td>1391.5</td>\n",
              "      <td>False</td>\n",
              "      <td>True</td>\n",
              "    </tr>\n",
              "    <tr>\n",
              "      <th>659</th>\n",
              "      <td>6212</td>\n",
              "      <td>1</td>\n",
              "      <td>115.0</td>\n",
              "      <td>2</td>\n",
              "      <td>13996</td>\n",
              "      <td>2.0</td>\n",
              "      <td>domaine-des-comtes-lafon-volnay-1er-cru-santen...</td>\n",
              "      <td>product</td>\n",
              "      <td>230.0</td>\n",
              "      <td>230.0</td>\n",
              "      <td>False</td>\n",
              "      <td>True</td>\n",
              "    </tr>\n",
              "    <tr>\n",
              "      <th>219</th>\n",
              "      <td>4404</td>\n",
              "      <td>1</td>\n",
              "      <td>108.5</td>\n",
              "      <td>2</td>\n",
              "      <td>3507</td>\n",
              "      <td>2.0</td>\n",
              "      <td>cognac-frapin-fontpinot-xo</td>\n",
              "      <td>product</td>\n",
              "      <td>217.0</td>\n",
              "      <td>217.0</td>\n",
              "      <td>False</td>\n",
              "      <td>True</td>\n",
              "    </tr>\n",
              "    <tr>\n",
              "      <th>222</th>\n",
              "      <td>4407</td>\n",
              "      <td>1</td>\n",
              "      <td>104.0</td>\n",
              "      <td>6</td>\n",
              "      <td>3509</td>\n",
              "      <td>1.0</td>\n",
              "      <td>cognac-frapin-cigar-blend</td>\n",
              "      <td>product</td>\n",
              "      <td>624.0</td>\n",
              "      <td>104.0</td>\n",
              "      <td>True</td>\n",
              "      <td>True</td>\n",
              "    </tr>\n",
              "    <tr>\n",
              "      <th>205</th>\n",
              "      <td>4359</td>\n",
              "      <td>1</td>\n",
              "      <td>85.6</td>\n",
              "      <td>0</td>\n",
              "      <td>13853</td>\n",
              "      <td>1.0</td>\n",
              "      <td>champagne-larmandier-bernier-grand-cru-vieille...</td>\n",
              "      <td>product</td>\n",
              "      <td>0.0</td>\n",
              "      <td>85.6</td>\n",
              "      <td>False</td>\n",
              "      <td>True</td>\n",
              "    </tr>\n",
              "  </tbody>\n",
              "</table>\n",
              "</div>\n",
              "      <button class=\"colab-df-convert\" onclick=\"convertToInteractive('df-8b2c5261-7b82-4232-a6f7-9bd1da4f056f')\"\n",
              "              title=\"Convert this dataframe to an interactive table.\"\n",
              "              style=\"display:none;\">\n",
              "        \n",
              "  <svg xmlns=\"http://www.w3.org/2000/svg\" height=\"24px\"viewBox=\"0 0 24 24\"\n",
              "       width=\"24px\">\n",
              "    <path d=\"M0 0h24v24H0V0z\" fill=\"none\"/>\n",
              "    <path d=\"M18.56 5.44l.94 2.06.94-2.06 2.06-.94-2.06-.94-.94-2.06-.94 2.06-2.06.94zm-11 1L8.5 8.5l.94-2.06 2.06-.94-2.06-.94L8.5 2.5l-.94 2.06-2.06.94zm10 10l.94 2.06.94-2.06 2.06-.94-2.06-.94-.94-2.06-.94 2.06-2.06.94z\"/><path d=\"M17.41 7.96l-1.37-1.37c-.4-.4-.92-.59-1.43-.59-.52 0-1.04.2-1.43.59L10.3 9.45l-7.72 7.72c-.78.78-.78 2.05 0 2.83L4 21.41c.39.39.9.59 1.41.59.51 0 1.02-.2 1.41-.59l7.78-7.78 2.81-2.81c.8-.78.8-2.07 0-2.86zM5.41 20L4 18.59l7.72-7.72 1.47 1.35L5.41 20z\"/>\n",
              "  </svg>\n",
              "      </button>\n",
              "      \n",
              "  <style>\n",
              "    .colab-df-container {\n",
              "      display:flex;\n",
              "      flex-wrap:wrap;\n",
              "      gap: 12px;\n",
              "    }\n",
              "\n",
              "    .colab-df-convert {\n",
              "      background-color: #E8F0FE;\n",
              "      border: none;\n",
              "      border-radius: 50%;\n",
              "      cursor: pointer;\n",
              "      display: none;\n",
              "      fill: #1967D2;\n",
              "      height: 32px;\n",
              "      padding: 0 0 0 0;\n",
              "      width: 32px;\n",
              "    }\n",
              "\n",
              "    .colab-df-convert:hover {\n",
              "      background-color: #E2EBFA;\n",
              "      box-shadow: 0px 1px 2px rgba(60, 64, 67, 0.3), 0px 1px 3px 1px rgba(60, 64, 67, 0.15);\n",
              "      fill: #174EA6;\n",
              "    }\n",
              "\n",
              "    [theme=dark] .colab-df-convert {\n",
              "      background-color: #3B4455;\n",
              "      fill: #D2E3FC;\n",
              "    }\n",
              "\n",
              "    [theme=dark] .colab-df-convert:hover {\n",
              "      background-color: #434B5C;\n",
              "      box-shadow: 0px 1px 3px 1px rgba(0, 0, 0, 0.15);\n",
              "      filter: drop-shadow(0px 1px 2px rgba(0, 0, 0, 0.3));\n",
              "      fill: #FFFFFF;\n",
              "    }\n",
              "  </style>\n",
              "\n",
              "      <script>\n",
              "        const buttonEl =\n",
              "          document.querySelector('#df-8b2c5261-7b82-4232-a6f7-9bd1da4f056f button.colab-df-convert');\n",
              "        buttonEl.style.display =\n",
              "          google.colab.kernel.accessAllowed ? 'block' : 'none';\n",
              "\n",
              "        async function convertToInteractive(key) {\n",
              "          const element = document.querySelector('#df-8b2c5261-7b82-4232-a6f7-9bd1da4f056f');\n",
              "          const dataTable =\n",
              "            await google.colab.kernel.invokeFunction('convertToInteractive',\n",
              "                                                     [key], {});\n",
              "          if (!dataTable) return;\n",
              "\n",
              "          const docLinkHtml = 'Like what you see? Visit the ' +\n",
              "            '<a target=\"_blank\" href=https://colab.research.google.com/notebooks/data_table.ipynb>data table notebook</a>'\n",
              "            + ' to learn more about interactive tables.';\n",
              "          element.innerHTML = '';\n",
              "          dataTable['output_type'] = 'display_data';\n",
              "          await google.colab.output.renderOutput(dataTable, element);\n",
              "          const docLink = document.createElement('div');\n",
              "          docLink.innerHTML = docLinkHtml;\n",
              "          element.appendChild(docLink);\n",
              "        }\n",
              "      </script>\n",
              "    </div>\n",
              "  </div>\n",
              "  "
            ]
          },
          "metadata": {},
          "execution_count": 162
        }
      ]
    },
    {
      "cell_type": "markdown",
      "source": [
        "Après vérification rapide via  google, les prix de ces produits sont tout à fait dans la moyenne des tarifs proposés.\n",
        "\n"
      ],
      "metadata": {
        "id": "iiyQm3bFYsv-"
      }
    },
    {
      "cell_type": "code",
      "source": [],
      "metadata": {
        "id": "g49k7ewV62so"
      },
      "execution_count": 162,
      "outputs": []
    }
  ]
}